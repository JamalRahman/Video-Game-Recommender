{
 "cells": [
  {
   "cell_type": "markdown",
   "metadata": {},
   "source": [
    "import json\n",
    "import ast\n",
    "import os\n",
    "\n",
    "\n",
    "directory = '../../data/cache/2020-05-12_13-42-02'\n",
    "master = {}\n",
    "master['apps'] = []\n",
    "\n",
    "for file in os.listdir(directory):\n",
    "    if file.endswith(\".txt\"):\n",
    "        cache_file = os.path.join(directory, file)\n",
    "\n",
    "        with open(cache_file, encoding='utf8') as f:\n",
    "            for line in f:\n",
    "                app_details = ast.literal_eval(line)\n",
    "                master['apps'].append(app_details)\n",
    "\n",
    "with open(directory+'/steamstore.json','w') as out:\n",
    "    json.dump(master,out)"
   ]
  },
  {
   "cell_type": "code",
   "execution_count": 1,
   "metadata": {},
   "outputs": [],
   "source": [
    "import pandas as pd\n",
    "import json"
   ]
  },
  {
   "cell_type": "code",
   "execution_count": 12,
   "metadata": {},
   "outputs": [
    {
     "output_type": "error",
     "ename": "FileNotFoundError",
     "evalue": "[Errno 2] No such file or directory: '../data/cache/store_steamspy/apps.json'",
     "traceback": [
      "\u001b[0;31m---------------------------------------------------------------------------\u001b[0m",
      "\u001b[0;31mFileNotFoundError\u001b[0m                         Traceback (most recent call last)",
      "\u001b[0;32m<ipython-input-12-226df8d9ff63>\u001b[0m in \u001b[0;36m<module>\u001b[0;34m\u001b[0m\n\u001b[1;32m      1\u001b[0m \u001b[0mdata_path\u001b[0m \u001b[0;34m=\u001b[0m \u001b[0;34m'../data/cache/store_steamspy/apps.json'\u001b[0m\u001b[0;34m\u001b[0m\u001b[0;34m\u001b[0m\u001b[0m\n\u001b[1;32m      2\u001b[0m \u001b[0;34m\u001b[0m\u001b[0m\n\u001b[0;32m----> 3\u001b[0;31m \u001b[0;32mwith\u001b[0m \u001b[0mopen\u001b[0m\u001b[0;34m(\u001b[0m\u001b[0mdata_path\u001b[0m\u001b[0;34m,\u001b[0m \u001b[0;34m'r'\u001b[0m\u001b[0;34m,\u001b[0m \u001b[0mencoding\u001b[0m\u001b[0;34m=\u001b[0m\u001b[0;34m'utf-8'\u001b[0m\u001b[0;34m)\u001b[0m \u001b[0;32mas\u001b[0m \u001b[0mf\u001b[0m\u001b[0;34m:\u001b[0m\u001b[0;34m\u001b[0m\u001b[0;34m\u001b[0m\u001b[0m\n\u001b[0m\u001b[1;32m      4\u001b[0m     \u001b[0mraw_data\u001b[0m \u001b[0;34m=\u001b[0m \u001b[0mjson\u001b[0m\u001b[0;34m.\u001b[0m\u001b[0mload\u001b[0m\u001b[0;34m(\u001b[0m\u001b[0mf\u001b[0m\u001b[0;34m)\u001b[0m\u001b[0;34m\u001b[0m\u001b[0;34m\u001b[0m\u001b[0m\n\u001b[1;32m      5\u001b[0m \u001b[0;34m\u001b[0m\u001b[0m\n",
      "\u001b[0;31mFileNotFoundError\u001b[0m: [Errno 2] No such file or directory: '../data/cache/store_steamspy/apps.json'"
     ]
    }
   ],
   "source": [
    "data_path = '../data/cache/store_steamspy/apps.json'\n",
    "\n",
    "with open(data_path, 'r', encoding='utf-8') as f:\n",
    "    raw_data = json.load(f)\n",
    "\n",
    "app_data = pd.DataFrame(raw_data['apps'])"
   ]
  },
  {
   "cell_type": "markdown",
   "metadata": {},
   "source": [
    "## Feature Engineering\n",
    "\n",
    "already_released y/n\n",
    "Release date\n"
   ]
  },
  {
   "cell_type": "code",
   "execution_count": 3,
   "metadata": {},
   "outputs": [],
   "source": [
    "app_data.drop('supported_languages',axis=1,inplace=True)"
   ]
  },
  {
   "cell_type": "code",
   "execution_count": 4,
   "metadata": {},
   "outputs": [],
   "source": [
    "app_data.drop('recommendations',axis=1, inplace=True)"
   ]
  },
  {
   "cell_type": "code",
   "execution_count": 5,
   "metadata": {},
   "outputs": [],
   "source": [
    "def get(element,key):\n",
    "    try:\n",
    "        return element[key]\n",
    "    except:\n",
    "        return None"
   ]
  },
  {
   "cell_type": "code",
   "execution_count": 6,
   "metadata": {
    "tags": [
     "outputPrepend",
     "outputPrepend",
     "outputPrepend",
     "outputPrepend",
     "outputPrepend",
     "outputPrepend",
     "outputPrepend",
     "outputPrepend",
     "outputPrepend",
     "outputPrepend",
     "outputPrepend",
     "outputPrepend",
     "outputPrepend"
    ]
   },
   "outputs": [],
   "source": [
    "app_data['price'] = app_data['price_overview'].apply(lambda x: get(x,'initial'))\n",
    "app_data.drop('price_overview',axis=1,inplace=True)"
   ]
  },
  {
   "cell_type": "code",
   "execution_count": 7,
   "metadata": {
    "tags": [
     "outputPrepend",
     "outputPrepend",
     "outputPrepend",
     "outputPrepend",
     "outputPrepend",
     "outputPrepend",
     "outputPrepend",
     "outputPrepend",
     "outputPrepend",
     "outputPrepend",
     "outputPrepend",
     "outputPrepend",
     "outputPrepend",
     "outputPrepend",
     "outputPrepend",
     "outputPrepend",
     "outputPrepend",
     "outputPrepend",
     "outputPrepend",
     "outputPrepend",
     "outputPrepend",
     "outputPrepend",
     "outputPrepend",
     "outputPrepend",
     "outputPrepend",
     "outputPrepend",
     "outputPrepend",
     "outputPrepend",
     "outputPrepend",
     "outputPrepend",
     "outputPrepend",
     "outputPrepend",
     "outputPrepend"
    ]
   },
   "outputs": [],
   "source": [
    "app_data['released'] = app_data['release_date'].apply(lambda x: not get(x,'coming_soon'))\n",
    "app_data['release_date'] = app_data['release_date'].apply(lambda x: get(x, 'date'))\n"
   ]
  },
  {
   "cell_type": "code",
   "execution_count": 8,
   "metadata": {},
   "outputs": [],
   "source": [
    "app_data.drop('genres',axis=1,inplace=True)"
   ]
  },
  {
   "cell_type": "code",
   "execution_count": 9,
   "metadata": {},
   "outputs": [],
   "source": [
    "def get_owners(string):\n",
    "    bounds = [int(item.replace(',','')) for item in string.split(' .. ')]\n",
    "    return int((bounds[0]+bounds[1])/2)"
   ]
  },
  {
   "cell_type": "code",
   "execution_count": 10,
   "metadata": {
    "tags": [
     "outputPrepend",
     "outputPrepend",
     "outputPrepend",
     "outputPrepend",
     "outputPrepend",
     "outputPrepend",
     "outputPrepend",
     "outputPrepend",
     "outputPrepend",
     "outputPrepend",
     "outputPrepend",
     "outputPrepend",
     "outputPrepend",
     "outputPrepend",
     "outputPrepend",
     "outputPrepend"
    ]
   },
   "outputs": [],
   "source": [
    "app_data['median_owners'] = app_data['owners'].apply(get_owners)"
   ]
  },
  {
   "cell_type": "code",
   "execution_count": 11,
   "metadata": {},
   "outputs": [],
   "source": [
    "app_data['categories'] = app_data['categories'].apply(lambda x: [{'id': 2, 'description': 'Single-player'}] if x is None else x)"
   ]
  },
  {
   "cell_type": "code",
   "execution_count": 12,
   "metadata": {},
   "outputs": [],
   "source": [
    "app_data['categories'] = app_data['categories'].apply(lambda tags: [tag['description'] for tag in tags])"
   ]
  },
  {
   "cell_type": "code",
   "execution_count": 13,
   "metadata": {},
   "outputs": [],
   "source": [
    "app_data.dropna(subset=['languages','developers'],inplace=True)"
   ]
  },
  {
   "cell_type": "code",
   "execution_count": 14,
   "metadata": {},
   "outputs": [],
   "source": [
    "app_data['price'] = app_data.apply((lambda x: 0 if x['is_free']==True else x['price']), axis=1)"
   ]
  },
  {
   "cell_type": "code",
   "execution_count": 15,
   "metadata": {},
   "outputs": [],
   "source": [
    "l = list(app_data['developers'])\n",
    "flat_list = [item for sublist in l for item in sublist]"
   ]
  },
  {
   "cell_type": "code",
   "execution_count": 1,
   "metadata": {},
   "outputs": [
    {
     "output_type": "error",
     "ename": "NameError",
     "evalue": "name 'app_data' is not defined",
     "traceback": [
      "\u001b[0;31m---------------------------------------------------------------------------\u001b[0m",
      "\u001b[0;31mNameError\u001b[0m                                 Traceback (most recent call last)",
      "\u001b[0;32m<ipython-input-1-2555fbe13dc5>\u001b[0m in \u001b[0;36m<module>\u001b[0;34m\u001b[0m\n\u001b[0;32m----> 1\u001b[0;31m \u001b[0mapp_data\u001b[0m\u001b[0;34m.\u001b[0m\u001b[0mhead\u001b[0m\u001b[0;34m(\u001b[0m\u001b[0;34m)\u001b[0m\u001b[0;34m\u001b[0m\u001b[0;34m\u001b[0m\u001b[0m\n\u001b[0m",
      "\u001b[0;31mNameError\u001b[0m: name 'app_data' is not defined"
     ]
    }
   ],
   "source": [
    "app_data.head()"
   ]
  },
  {
   "cell_type": "code",
   "execution_count": 17,
   "metadata": {},
   "outputs": [],
   "source": [
    "user_data = pd.read_csv('../../data/steam-200k.csv')\n",
    "user_data.columns = ['user_id','app_name','purchased','hours','0']"
   ]
  },
  {
   "cell_type": "code",
   "execution_count": 18,
   "metadata": {},
   "outputs": [],
   "source": [
    "user_data.drop('0',axis=1,inplace=True)"
   ]
  },
  {
   "cell_type": "code",
   "execution_count": 19,
   "metadata": {},
   "outputs": [],
   "source": [
    "user_data = user_data[user_data['purchased']=='play']"
   ]
  },
  {
   "cell_type": "code",
   "execution_count": 20,
   "metadata": {},
   "outputs": [],
   "source": [
    "user_data.drop('purchased',axis=1,inplace=True)"
   ]
  },
  {
   "cell_type": "code",
   "execution_count": 21,
   "metadata": {},
   "outputs": [
    {
     "output_type": "execute_result",
     "data": {
      "text/plain": "3600"
     },
     "metadata": {},
     "execution_count": 21
    }
   ],
   "source": [
    "len(user_data['app_name'].unique())"
   ]
  },
  {
   "cell_type": "code",
   "execution_count": 22,
   "metadata": {},
   "outputs": [
    {
     "output_type": "execute_result",
     "data": {
      "text/plain": "     user_id                    app_name  hours\n0  151603712  The Elder Scrolls V Skyrim  273.0\n2  151603712                   Fallout 4   87.0\n4  151603712                       Spore   14.9\n6  151603712           Fallout New Vegas   12.1\n8  151603712               Left 4 Dead 2    8.9",
      "text/html": "<div>\n<style scoped>\n    .dataframe tbody tr th:only-of-type {\n        vertical-align: middle;\n    }\n\n    .dataframe tbody tr th {\n        vertical-align: top;\n    }\n\n    .dataframe thead th {\n        text-align: right;\n    }\n</style>\n<table border=\"1\" class=\"dataframe\">\n  <thead>\n    <tr style=\"text-align: right;\">\n      <th></th>\n      <th>user_id</th>\n      <th>app_name</th>\n      <th>hours</th>\n    </tr>\n  </thead>\n  <tbody>\n    <tr>\n      <th>0</th>\n      <td>151603712</td>\n      <td>The Elder Scrolls V Skyrim</td>\n      <td>273.0</td>\n    </tr>\n    <tr>\n      <th>2</th>\n      <td>151603712</td>\n      <td>Fallout 4</td>\n      <td>87.0</td>\n    </tr>\n    <tr>\n      <th>4</th>\n      <td>151603712</td>\n      <td>Spore</td>\n      <td>14.9</td>\n    </tr>\n    <tr>\n      <th>6</th>\n      <td>151603712</td>\n      <td>Fallout New Vegas</td>\n      <td>12.1</td>\n    </tr>\n    <tr>\n      <th>8</th>\n      <td>151603712</td>\n      <td>Left 4 Dead 2</td>\n      <td>8.9</td>\n    </tr>\n  </tbody>\n</table>\n</div>"
     },
     "metadata": {},
     "execution_count": 22
    }
   ],
   "source": [
    "user_data.head()"
   ]
  },
  {
   "cell_type": "code",
   "execution_count": 23,
   "metadata": {},
   "outputs": [],
   "source": [
    "import math"
   ]
  },
  {
   "cell_type": "code",
   "execution_count": 24,
   "metadata": {},
   "outputs": [],
   "source": [
    "user_data['log_hours'] = user_data['hours'].apply(lambda x: math.log((x+1)))"
   ]
  },
  {
   "cell_type": "code",
   "execution_count": 25,
   "metadata": {},
   "outputs": [
    {
     "output_type": "execute_result",
     "data": {
      "text/plain": "<matplotlib.axes._subplots.AxesSubplot at 0x1e4475abd48>"
     },
     "metadata": {},
     "execution_count": 25
    }
   ],
   "source": [
    "user_data['hours'].plot(kind='hist')"
   ]
  },
  {
   "cell_type": "code",
   "execution_count": 26,
   "metadata": {},
   "outputs": [
    {
     "output_type": "execute_result",
     "data": {
      "text/plain": "<matplotlib.axes._subplots.AxesSubplot at 0x1e4478a8608>"
     },
     "metadata": {},
     "execution_count": 26
    },
    {
     "output_type": "display_data",
     "data": {
      "text/plain": "<Figure size 432x288 with 1 Axes>",
      "image/svg+xml": "<?xml version=\"1.0\" encoding=\"utf-8\" standalone=\"no\"?>\r\n<!DOCTYPE svg PUBLIC \"-//W3C//DTD SVG 1.1//EN\"\r\n  \"http://www.w3.org/Graphics/SVG/1.1/DTD/svg11.dtd\">\r\n<!-- Created with matplotlib (https://matplotlib.org/) -->\r\n<svg height=\"248.518125pt\" version=\"1.1\" viewBox=\"0 0 401.690625 248.518125\" width=\"401.690625pt\" xmlns=\"http://www.w3.org/2000/svg\" xmlns:xlink=\"http://www.w3.org/1999/xlink\">\r\n <defs>\r\n  <style type=\"text/css\">\r\n*{stroke-linecap:butt;stroke-linejoin:round;}\r\n  </style>\r\n </defs>\r\n <g id=\"figure_1\">\r\n  <g id=\"patch_1\">\r\n   <path d=\"M 0 248.518125 \r\nL 401.690625 248.518125 \r\nL 401.690625 0 \r\nL 0 0 \r\nz\r\n\" style=\"fill:none;\"/>\r\n  </g>\r\n  <g id=\"axes_1\">\r\n   <g id=\"patch_2\">\r\n    <path d=\"M 59.690625 224.64 \r\nL 394.490625 224.64 \r\nL 394.490625 7.2 \r\nL 59.690625 7.2 \r\nz\r\n\" style=\"fill:#ffffff;\"/>\r\n   </g>\r\n   <g id=\"patch_3\">\r\n    <path clip-path=\"url(#p0dfdd6b091)\" d=\"M 74.908807 224.64 \r\nL 105.34517 224.64 \r\nL 105.34517 17.554286 \r\nL 74.908807 17.554286 \r\nz\r\n\" style=\"fill:#1f77b4;\"/>\r\n   </g>\r\n   <g id=\"patch_4\">\r\n    <path clip-path=\"url(#p0dfdd6b091)\" d=\"M 105.34517 224.64 \r\nL 135.781534 224.64 \r\nL 135.781534 90.859583 \r\nL 105.34517 90.859583 \r\nz\r\n\" style=\"fill:#1f77b4;\"/>\r\n   </g>\r\n   <g id=\"patch_5\">\r\n    <path clip-path=\"url(#p0dfdd6b091)\" d=\"M 135.781534 224.64 \r\nL 166.217898 224.64 \r\nL 166.217898 115.18966 \r\nL 135.781534 115.18966 \r\nz\r\n\" style=\"fill:#1f77b4;\"/>\r\n   </g>\r\n   <g id=\"patch_6\">\r\n    <path clip-path=\"url(#p0dfdd6b091)\" d=\"M 166.217898 224.64 \r\nL 196.654261 224.64 \r\nL 196.654261 149.426805 \r\nL 166.217898 149.426805 \r\nz\r\n\" style=\"fill:#1f77b4;\"/>\r\n   </g>\r\n   <g id=\"patch_7\">\r\n    <path clip-path=\"url(#p0dfdd6b091)\" d=\"M 196.654261 224.64 \r\nL 227.090625 224.64 \r\nL 227.090625 179.331795 \r\nL 196.654261 179.331795 \r\nz\r\n\" style=\"fill:#1f77b4;\"/>\r\n   </g>\r\n   <g id=\"patch_8\">\r\n    <path clip-path=\"url(#p0dfdd6b091)\" d=\"M 227.090625 224.64 \r\nL 257.526989 224.64 \r\nL 257.526989 200.196149 \r\nL 227.090625 200.196149 \r\nz\r\n\" style=\"fill:#1f77b4;\"/>\r\n   </g>\r\n   <g id=\"patch_9\">\r\n    <path clip-path=\"url(#p0dfdd6b091)\" d=\"M 257.526989 224.64 \r\nL 287.963352 224.64 \r\nL 287.963352 211.398487 \r\nL 257.526989 211.398487 \r\nz\r\n\" style=\"fill:#1f77b4;\"/>\r\n   </g>\r\n   <g id=\"patch_10\">\r\n    <path clip-path=\"url(#p0dfdd6b091)\" d=\"M 287.963352 224.64 \r\nL 318.399716 224.64 \r\nL 318.399716 218.111138 \r\nL 287.963352 218.111138 \r\nz\r\n\" style=\"fill:#1f77b4;\"/>\r\n   </g>\r\n   <g id=\"patch_11\">\r\n    <path clip-path=\"url(#p0dfdd6b091)\" d=\"M 318.399716 224.64 \r\nL 348.83608 224.64 \r\nL 348.83608 223.020912 \r\nL 318.399716 223.020912 \r\nz\r\n\" style=\"fill:#1f77b4;\"/>\r\n   </g>\r\n   <g id=\"patch_12\">\r\n    <path clip-path=\"url(#p0dfdd6b091)\" d=\"M 348.83608 224.64 \r\nL 379.272443 224.64 \r\nL 379.272443 224.403701 \r\nL 348.83608 224.403701 \r\nz\r\n\" style=\"fill:#1f77b4;\"/>\r\n   </g>\r\n   <g id=\"matplotlib.axis_1\">\r\n    <g id=\"xtick_1\">\r\n     <g id=\"line2d_1\">\r\n      <defs>\r\n       <path d=\"M 0 0 \r\nL 0 3.5 \r\n\" id=\"mfd6a159136\" style=\"stroke:#000000;stroke-width:0.8;\"/>\r\n      </defs>\r\n      <g>\r\n       <use style=\"stroke:#000000;stroke-width:0.8;\" x=\"71.781738\" xlink:href=\"#mfd6a159136\" y=\"224.64\"/>\r\n      </g>\r\n     </g>\r\n     <g id=\"text_1\">\r\n      <!-- 0 -->\r\n      <defs>\r\n       <path d=\"M 31.78125 66.40625 \r\nQ 24.171875 66.40625 20.328125 58.90625 \r\nQ 16.5 51.421875 16.5 36.375 \r\nQ 16.5 21.390625 20.328125 13.890625 \r\nQ 24.171875 6.390625 31.78125 6.390625 \r\nQ 39.453125 6.390625 43.28125 13.890625 \r\nQ 47.125 21.390625 47.125 36.375 \r\nQ 47.125 51.421875 43.28125 58.90625 \r\nQ 39.453125 66.40625 31.78125 66.40625 \r\nz\r\nM 31.78125 74.21875 \r\nQ 44.046875 74.21875 50.515625 64.515625 \r\nQ 56.984375 54.828125 56.984375 36.375 \r\nQ 56.984375 17.96875 50.515625 8.265625 \r\nQ 44.046875 -1.421875 31.78125 -1.421875 \r\nQ 19.53125 -1.421875 13.0625 8.265625 \r\nQ 6.59375 17.96875 6.59375 36.375 \r\nQ 6.59375 54.828125 13.0625 64.515625 \r\nQ 19.53125 74.21875 31.78125 74.21875 \r\nz\r\n\" id=\"DejaVuSans-48\"/>\r\n      </defs>\r\n      <g transform=\"translate(68.600488 239.238438)scale(0.1 -0.1)\">\r\n       <use xlink:href=\"#DejaVuSans-48\"/>\r\n      </g>\r\n     </g>\r\n    </g>\r\n    <g id=\"xtick_2\">\r\n     <g id=\"line2d_2\">\r\n      <g>\r\n       <use style=\"stroke:#000000;stroke-width:0.8;\" x=\"137.400515\" xlink:href=\"#mfd6a159136\" y=\"224.64\"/>\r\n      </g>\r\n     </g>\r\n     <g id=\"text_2\">\r\n      <!-- 2 -->\r\n      <defs>\r\n       <path d=\"M 19.1875 8.296875 \r\nL 53.609375 8.296875 \r\nL 53.609375 0 \r\nL 7.328125 0 \r\nL 7.328125 8.296875 \r\nQ 12.9375 14.109375 22.625 23.890625 \r\nQ 32.328125 33.6875 34.8125 36.53125 \r\nQ 39.546875 41.84375 41.421875 45.53125 \r\nQ 43.3125 49.21875 43.3125 52.78125 \r\nQ 43.3125 58.59375 39.234375 62.25 \r\nQ 35.15625 65.921875 28.609375 65.921875 \r\nQ 23.96875 65.921875 18.8125 64.3125 \r\nQ 13.671875 62.703125 7.8125 59.421875 \r\nL 7.8125 69.390625 \r\nQ 13.765625 71.78125 18.9375 73 \r\nQ 24.125 74.21875 28.421875 74.21875 \r\nQ 39.75 74.21875 46.484375 68.546875 \r\nQ 53.21875 62.890625 53.21875 53.421875 \r\nQ 53.21875 48.921875 51.53125 44.890625 \r\nQ 49.859375 40.875 45.40625 35.40625 \r\nQ 44.1875 33.984375 37.640625 27.21875 \r\nQ 31.109375 20.453125 19.1875 8.296875 \r\nz\r\n\" id=\"DejaVuSans-50\"/>\r\n      </defs>\r\n      <g transform=\"translate(134.219265 239.238438)scale(0.1 -0.1)\">\r\n       <use xlink:href=\"#DejaVuSans-50\"/>\r\n      </g>\r\n     </g>\r\n    </g>\r\n    <g id=\"xtick_3\">\r\n     <g id=\"line2d_3\">\r\n      <g>\r\n       <use style=\"stroke:#000000;stroke-width:0.8;\" x=\"203.019293\" xlink:href=\"#mfd6a159136\" y=\"224.64\"/>\r\n      </g>\r\n     </g>\r\n     <g id=\"text_3\">\r\n      <!-- 4 -->\r\n      <defs>\r\n       <path d=\"M 37.796875 64.3125 \r\nL 12.890625 25.390625 \r\nL 37.796875 25.390625 \r\nz\r\nM 35.203125 72.90625 \r\nL 47.609375 72.90625 \r\nL 47.609375 25.390625 \r\nL 58.015625 25.390625 \r\nL 58.015625 17.1875 \r\nL 47.609375 17.1875 \r\nL 47.609375 0 \r\nL 37.796875 0 \r\nL 37.796875 17.1875 \r\nL 4.890625 17.1875 \r\nL 4.890625 26.703125 \r\nz\r\n\" id=\"DejaVuSans-52\"/>\r\n      </defs>\r\n      <g transform=\"translate(199.838043 239.238438)scale(0.1 -0.1)\">\r\n       <use xlink:href=\"#DejaVuSans-52\"/>\r\n      </g>\r\n     </g>\r\n    </g>\r\n    <g id=\"xtick_4\">\r\n     <g id=\"line2d_4\">\r\n      <g>\r\n       <use style=\"stroke:#000000;stroke-width:0.8;\" x=\"268.63807\" xlink:href=\"#mfd6a159136\" y=\"224.64\"/>\r\n      </g>\r\n     </g>\r\n     <g id=\"text_4\">\r\n      <!-- 6 -->\r\n      <defs>\r\n       <path d=\"M 33.015625 40.375 \r\nQ 26.375 40.375 22.484375 35.828125 \r\nQ 18.609375 31.296875 18.609375 23.390625 \r\nQ 18.609375 15.53125 22.484375 10.953125 \r\nQ 26.375 6.390625 33.015625 6.390625 \r\nQ 39.65625 6.390625 43.53125 10.953125 \r\nQ 47.40625 15.53125 47.40625 23.390625 \r\nQ 47.40625 31.296875 43.53125 35.828125 \r\nQ 39.65625 40.375 33.015625 40.375 \r\nz\r\nM 52.59375 71.296875 \r\nL 52.59375 62.3125 \r\nQ 48.875 64.0625 45.09375 64.984375 \r\nQ 41.3125 65.921875 37.59375 65.921875 \r\nQ 27.828125 65.921875 22.671875 59.328125 \r\nQ 17.53125 52.734375 16.796875 39.40625 \r\nQ 19.671875 43.65625 24.015625 45.921875 \r\nQ 28.375 48.1875 33.59375 48.1875 \r\nQ 44.578125 48.1875 50.953125 41.515625 \r\nQ 57.328125 34.859375 57.328125 23.390625 \r\nQ 57.328125 12.15625 50.6875 5.359375 \r\nQ 44.046875 -1.421875 33.015625 -1.421875 \r\nQ 20.359375 -1.421875 13.671875 8.265625 \r\nQ 6.984375 17.96875 6.984375 36.375 \r\nQ 6.984375 53.65625 15.1875 63.9375 \r\nQ 23.390625 74.21875 37.203125 74.21875 \r\nQ 40.921875 74.21875 44.703125 73.484375 \r\nQ 48.484375 72.75 52.59375 71.296875 \r\nz\r\n\" id=\"DejaVuSans-54\"/>\r\n      </defs>\r\n      <g transform=\"translate(265.45682 239.238438)scale(0.1 -0.1)\">\r\n       <use xlink:href=\"#DejaVuSans-54\"/>\r\n      </g>\r\n     </g>\r\n    </g>\r\n    <g id=\"xtick_5\">\r\n     <g id=\"line2d_5\">\r\n      <g>\r\n       <use style=\"stroke:#000000;stroke-width:0.8;\" x=\"334.256848\" xlink:href=\"#mfd6a159136\" y=\"224.64\"/>\r\n      </g>\r\n     </g>\r\n     <g id=\"text_5\">\r\n      <!-- 8 -->\r\n      <defs>\r\n       <path d=\"M 31.78125 34.625 \r\nQ 24.75 34.625 20.71875 30.859375 \r\nQ 16.703125 27.09375 16.703125 20.515625 \r\nQ 16.703125 13.921875 20.71875 10.15625 \r\nQ 24.75 6.390625 31.78125 6.390625 \r\nQ 38.8125 6.390625 42.859375 10.171875 \r\nQ 46.921875 13.96875 46.921875 20.515625 \r\nQ 46.921875 27.09375 42.890625 30.859375 \r\nQ 38.875 34.625 31.78125 34.625 \r\nz\r\nM 21.921875 38.8125 \r\nQ 15.578125 40.375 12.03125 44.71875 \r\nQ 8.5 49.078125 8.5 55.328125 \r\nQ 8.5 64.0625 14.71875 69.140625 \r\nQ 20.953125 74.21875 31.78125 74.21875 \r\nQ 42.671875 74.21875 48.875 69.140625 \r\nQ 55.078125 64.0625 55.078125 55.328125 \r\nQ 55.078125 49.078125 51.53125 44.71875 \r\nQ 48 40.375 41.703125 38.8125 \r\nQ 48.828125 37.15625 52.796875 32.3125 \r\nQ 56.78125 27.484375 56.78125 20.515625 \r\nQ 56.78125 9.90625 50.3125 4.234375 \r\nQ 43.84375 -1.421875 31.78125 -1.421875 \r\nQ 19.734375 -1.421875 13.25 4.234375 \r\nQ 6.78125 9.90625 6.78125 20.515625 \r\nQ 6.78125 27.484375 10.78125 32.3125 \r\nQ 14.796875 37.15625 21.921875 38.8125 \r\nz\r\nM 18.3125 54.390625 \r\nQ 18.3125 48.734375 21.84375 45.5625 \r\nQ 25.390625 42.390625 31.78125 42.390625 \r\nQ 38.140625 42.390625 41.71875 45.5625 \r\nQ 45.3125 48.734375 45.3125 54.390625 \r\nQ 45.3125 60.0625 41.71875 63.234375 \r\nQ 38.140625 66.40625 31.78125 66.40625 \r\nQ 25.390625 66.40625 21.84375 63.234375 \r\nQ 18.3125 60.0625 18.3125 54.390625 \r\nz\r\n\" id=\"DejaVuSans-56\"/>\r\n      </defs>\r\n      <g transform=\"translate(331.075598 239.238438)scale(0.1 -0.1)\">\r\n       <use xlink:href=\"#DejaVuSans-56\"/>\r\n      </g>\r\n     </g>\r\n    </g>\r\n   </g>\r\n   <g id=\"matplotlib.axis_2\">\r\n    <g id=\"ytick_1\">\r\n     <g id=\"line2d_6\">\r\n      <defs>\r\n       <path d=\"M 0 0 \r\nL -3.5 0 \r\n\" id=\"m2f807cf03e\" style=\"stroke:#000000;stroke-width:0.8;\"/>\r\n      </defs>\r\n      <g>\r\n       <use style=\"stroke:#000000;stroke-width:0.8;\" x=\"59.690625\" xlink:href=\"#m2f807cf03e\" y=\"224.64\"/>\r\n      </g>\r\n     </g>\r\n     <g id=\"text_6\">\r\n      <!-- 0 -->\r\n      <g transform=\"translate(46.328125 228.439219)scale(0.1 -0.1)\">\r\n       <use xlink:href=\"#DejaVuSans-48\"/>\r\n      </g>\r\n     </g>\r\n    </g>\r\n    <g id=\"ytick_2\">\r\n     <g id=\"line2d_7\">\r\n      <g>\r\n       <use style=\"stroke:#000000;stroke-width:0.8;\" x=\"59.690625\" xlink:href=\"#m2f807cf03e\" y=\"180.880868\"/>\r\n      </g>\r\n     </g>\r\n     <g id=\"text_7\">\r\n      <!-- 5000 -->\r\n      <defs>\r\n       <path d=\"M 10.796875 72.90625 \r\nL 49.515625 72.90625 \r\nL 49.515625 64.59375 \r\nL 19.828125 64.59375 \r\nL 19.828125 46.734375 \r\nQ 21.96875 47.46875 24.109375 47.828125 \r\nQ 26.265625 48.1875 28.421875 48.1875 \r\nQ 40.625 48.1875 47.75 41.5 \r\nQ 54.890625 34.8125 54.890625 23.390625 \r\nQ 54.890625 11.625 47.5625 5.09375 \r\nQ 40.234375 -1.421875 26.90625 -1.421875 \r\nQ 22.3125 -1.421875 17.546875 -0.640625 \r\nQ 12.796875 0.140625 7.71875 1.703125 \r\nL 7.71875 11.625 \r\nQ 12.109375 9.234375 16.796875 8.0625 \r\nQ 21.484375 6.890625 26.703125 6.890625 \r\nQ 35.15625 6.890625 40.078125 11.328125 \r\nQ 45.015625 15.765625 45.015625 23.390625 \r\nQ 45.015625 31 40.078125 35.4375 \r\nQ 35.15625 39.890625 26.703125 39.890625 \r\nQ 22.75 39.890625 18.8125 39.015625 \r\nQ 14.890625 38.140625 10.796875 36.28125 \r\nz\r\n\" id=\"DejaVuSans-53\"/>\r\n      </defs>\r\n      <g transform=\"translate(27.240625 184.680087)scale(0.1 -0.1)\">\r\n       <use xlink:href=\"#DejaVuSans-53\"/>\r\n       <use x=\"63.623047\" xlink:href=\"#DejaVuSans-48\"/>\r\n       <use x=\"127.246094\" xlink:href=\"#DejaVuSans-48\"/>\r\n       <use x=\"190.869141\" xlink:href=\"#DejaVuSans-48\"/>\r\n      </g>\r\n     </g>\r\n    </g>\r\n    <g id=\"ytick_3\">\r\n     <g id=\"line2d_8\">\r\n      <g>\r\n       <use style=\"stroke:#000000;stroke-width:0.8;\" x=\"59.690625\" xlink:href=\"#m2f807cf03e\" y=\"137.121737\"/>\r\n      </g>\r\n     </g>\r\n     <g id=\"text_8\">\r\n      <!-- 10000 -->\r\n      <defs>\r\n       <path d=\"M 12.40625 8.296875 \r\nL 28.515625 8.296875 \r\nL 28.515625 63.921875 \r\nL 10.984375 60.40625 \r\nL 10.984375 69.390625 \r\nL 28.421875 72.90625 \r\nL 38.28125 72.90625 \r\nL 38.28125 8.296875 \r\nL 54.390625 8.296875 \r\nL 54.390625 0 \r\nL 12.40625 0 \r\nz\r\n\" id=\"DejaVuSans-49\"/>\r\n      </defs>\r\n      <g transform=\"translate(20.878125 140.920956)scale(0.1 -0.1)\">\r\n       <use xlink:href=\"#DejaVuSans-49\"/>\r\n       <use x=\"63.623047\" xlink:href=\"#DejaVuSans-48\"/>\r\n       <use x=\"127.246094\" xlink:href=\"#DejaVuSans-48\"/>\r\n       <use x=\"190.869141\" xlink:href=\"#DejaVuSans-48\"/>\r\n       <use x=\"254.492188\" xlink:href=\"#DejaVuSans-48\"/>\r\n      </g>\r\n     </g>\r\n    </g>\r\n    <g id=\"ytick_4\">\r\n     <g id=\"line2d_9\">\r\n      <g>\r\n       <use style=\"stroke:#000000;stroke-width:0.8;\" x=\"59.690625\" xlink:href=\"#m2f807cf03e\" y=\"93.362605\"/>\r\n      </g>\r\n     </g>\r\n     <g id=\"text_9\">\r\n      <!-- 15000 -->\r\n      <g transform=\"translate(20.878125 97.161824)scale(0.1 -0.1)\">\r\n       <use xlink:href=\"#DejaVuSans-49\"/>\r\n       <use x=\"63.623047\" xlink:href=\"#DejaVuSans-53\"/>\r\n       <use x=\"127.246094\" xlink:href=\"#DejaVuSans-48\"/>\r\n       <use x=\"190.869141\" xlink:href=\"#DejaVuSans-48\"/>\r\n       <use x=\"254.492188\" xlink:href=\"#DejaVuSans-48\"/>\r\n      </g>\r\n     </g>\r\n    </g>\r\n    <g id=\"ytick_5\">\r\n     <g id=\"line2d_10\">\r\n      <g>\r\n       <use style=\"stroke:#000000;stroke-width:0.8;\" x=\"59.690625\" xlink:href=\"#m2f807cf03e\" y=\"49.603474\"/>\r\n      </g>\r\n     </g>\r\n     <g id=\"text_10\">\r\n      <!-- 20000 -->\r\n      <g transform=\"translate(20.878125 53.402692)scale(0.1 -0.1)\">\r\n       <use xlink:href=\"#DejaVuSans-50\"/>\r\n       <use x=\"63.623047\" xlink:href=\"#DejaVuSans-48\"/>\r\n       <use x=\"127.246094\" xlink:href=\"#DejaVuSans-48\"/>\r\n       <use x=\"190.869141\" xlink:href=\"#DejaVuSans-48\"/>\r\n       <use x=\"254.492188\" xlink:href=\"#DejaVuSans-48\"/>\r\n      </g>\r\n     </g>\r\n    </g>\r\n    <g id=\"text_11\">\r\n     <!-- Frequency -->\r\n     <defs>\r\n      <path d=\"M 9.8125 72.90625 \r\nL 51.703125 72.90625 \r\nL 51.703125 64.59375 \r\nL 19.671875 64.59375 \r\nL 19.671875 43.109375 \r\nL 48.578125 43.109375 \r\nL 48.578125 34.8125 \r\nL 19.671875 34.8125 \r\nL 19.671875 0 \r\nL 9.8125 0 \r\nz\r\n\" id=\"DejaVuSans-70\"/>\r\n      <path d=\"M 41.109375 46.296875 \r\nQ 39.59375 47.171875 37.8125 47.578125 \r\nQ 36.03125 48 33.890625 48 \r\nQ 26.265625 48 22.1875 43.046875 \r\nQ 18.109375 38.09375 18.109375 28.8125 \r\nL 18.109375 0 \r\nL 9.078125 0 \r\nL 9.078125 54.6875 \r\nL 18.109375 54.6875 \r\nL 18.109375 46.1875 \r\nQ 20.953125 51.171875 25.484375 53.578125 \r\nQ 30.03125 56 36.53125 56 \r\nQ 37.453125 56 38.578125 55.875 \r\nQ 39.703125 55.765625 41.0625 55.515625 \r\nz\r\n\" id=\"DejaVuSans-114\"/>\r\n      <path d=\"M 56.203125 29.59375 \r\nL 56.203125 25.203125 \r\nL 14.890625 25.203125 \r\nQ 15.484375 15.921875 20.484375 11.0625 \r\nQ 25.484375 6.203125 34.421875 6.203125 \r\nQ 39.59375 6.203125 44.453125 7.46875 \r\nQ 49.3125 8.734375 54.109375 11.28125 \r\nL 54.109375 2.78125 \r\nQ 49.265625 0.734375 44.1875 -0.34375 \r\nQ 39.109375 -1.421875 33.890625 -1.421875 \r\nQ 20.796875 -1.421875 13.15625 6.1875 \r\nQ 5.515625 13.8125 5.515625 26.8125 \r\nQ 5.515625 40.234375 12.765625 48.109375 \r\nQ 20.015625 56 32.328125 56 \r\nQ 43.359375 56 49.78125 48.890625 \r\nQ 56.203125 41.796875 56.203125 29.59375 \r\nz\r\nM 47.21875 32.234375 \r\nQ 47.125 39.59375 43.09375 43.984375 \r\nQ 39.0625 48.390625 32.421875 48.390625 \r\nQ 24.90625 48.390625 20.390625 44.140625 \r\nQ 15.875 39.890625 15.1875 32.171875 \r\nz\r\n\" id=\"DejaVuSans-101\"/>\r\n      <path d=\"M 14.796875 27.296875 \r\nQ 14.796875 17.390625 18.875 11.75 \r\nQ 22.953125 6.109375 30.078125 6.109375 \r\nQ 37.203125 6.109375 41.296875 11.75 \r\nQ 45.40625 17.390625 45.40625 27.296875 \r\nQ 45.40625 37.203125 41.296875 42.84375 \r\nQ 37.203125 48.484375 30.078125 48.484375 \r\nQ 22.953125 48.484375 18.875 42.84375 \r\nQ 14.796875 37.203125 14.796875 27.296875 \r\nz\r\nM 45.40625 8.203125 \r\nQ 42.578125 3.328125 38.25 0.953125 \r\nQ 33.9375 -1.421875 27.875 -1.421875 \r\nQ 17.96875 -1.421875 11.734375 6.484375 \r\nQ 5.515625 14.40625 5.515625 27.296875 \r\nQ 5.515625 40.1875 11.734375 48.09375 \r\nQ 17.96875 56 27.875 56 \r\nQ 33.9375 56 38.25 53.625 \r\nQ 42.578125 51.265625 45.40625 46.390625 \r\nL 45.40625 54.6875 \r\nL 54.390625 54.6875 \r\nL 54.390625 -20.796875 \r\nL 45.40625 -20.796875 \r\nz\r\n\" id=\"DejaVuSans-113\"/>\r\n      <path d=\"M 8.5 21.578125 \r\nL 8.5 54.6875 \r\nL 17.484375 54.6875 \r\nL 17.484375 21.921875 \r\nQ 17.484375 14.15625 20.5 10.265625 \r\nQ 23.53125 6.390625 29.59375 6.390625 \r\nQ 36.859375 6.390625 41.078125 11.03125 \r\nQ 45.3125 15.671875 45.3125 23.6875 \r\nL 45.3125 54.6875 \r\nL 54.296875 54.6875 \r\nL 54.296875 0 \r\nL 45.3125 0 \r\nL 45.3125 8.40625 \r\nQ 42.046875 3.421875 37.71875 1 \r\nQ 33.40625 -1.421875 27.6875 -1.421875 \r\nQ 18.265625 -1.421875 13.375 4.4375 \r\nQ 8.5 10.296875 8.5 21.578125 \r\nz\r\nM 31.109375 56 \r\nz\r\n\" id=\"DejaVuSans-117\"/>\r\n      <path d=\"M 54.890625 33.015625 \r\nL 54.890625 0 \r\nL 45.90625 0 \r\nL 45.90625 32.71875 \r\nQ 45.90625 40.484375 42.875 44.328125 \r\nQ 39.84375 48.1875 33.796875 48.1875 \r\nQ 26.515625 48.1875 22.3125 43.546875 \r\nQ 18.109375 38.921875 18.109375 30.90625 \r\nL 18.109375 0 \r\nL 9.078125 0 \r\nL 9.078125 54.6875 \r\nL 18.109375 54.6875 \r\nL 18.109375 46.1875 \r\nQ 21.34375 51.125 25.703125 53.5625 \r\nQ 30.078125 56 35.796875 56 \r\nQ 45.21875 56 50.046875 50.171875 \r\nQ 54.890625 44.34375 54.890625 33.015625 \r\nz\r\n\" id=\"DejaVuSans-110\"/>\r\n      <path d=\"M 48.78125 52.59375 \r\nL 48.78125 44.1875 \r\nQ 44.96875 46.296875 41.140625 47.34375 \r\nQ 37.3125 48.390625 33.40625 48.390625 \r\nQ 24.65625 48.390625 19.8125 42.84375 \r\nQ 14.984375 37.3125 14.984375 27.296875 \r\nQ 14.984375 17.28125 19.8125 11.734375 \r\nQ 24.65625 6.203125 33.40625 6.203125 \r\nQ 37.3125 6.203125 41.140625 7.25 \r\nQ 44.96875 8.296875 48.78125 10.40625 \r\nL 48.78125 2.09375 \r\nQ 45.015625 0.34375 40.984375 -0.53125 \r\nQ 36.96875 -1.421875 32.421875 -1.421875 \r\nQ 20.0625 -1.421875 12.78125 6.34375 \r\nQ 5.515625 14.109375 5.515625 27.296875 \r\nQ 5.515625 40.671875 12.859375 48.328125 \r\nQ 20.21875 56 33.015625 56 \r\nQ 37.15625 56 41.109375 55.140625 \r\nQ 45.0625 54.296875 48.78125 52.59375 \r\nz\r\n\" id=\"DejaVuSans-99\"/>\r\n      <path d=\"M 32.171875 -5.078125 \r\nQ 28.375 -14.84375 24.75 -17.8125 \r\nQ 21.140625 -20.796875 15.09375 -20.796875 \r\nL 7.90625 -20.796875 \r\nL 7.90625 -13.28125 \r\nL 13.1875 -13.28125 \r\nQ 16.890625 -13.28125 18.9375 -11.515625 \r\nQ 21 -9.765625 23.484375 -3.21875 \r\nL 25.09375 0.875 \r\nL 2.984375 54.6875 \r\nL 12.5 54.6875 \r\nL 29.59375 11.921875 \r\nL 46.6875 54.6875 \r\nL 56.203125 54.6875 \r\nz\r\n\" id=\"DejaVuSans-121\"/>\r\n     </defs>\r\n     <g transform=\"translate(14.798438 142.217656)rotate(-90)scale(0.1 -0.1)\">\r\n      <use xlink:href=\"#DejaVuSans-70\"/>\r\n      <use x=\"57.410156\" xlink:href=\"#DejaVuSans-114\"/>\r\n      <use x=\"98.492188\" xlink:href=\"#DejaVuSans-101\"/>\r\n      <use x=\"160.015625\" xlink:href=\"#DejaVuSans-113\"/>\r\n      <use x=\"223.492188\" xlink:href=\"#DejaVuSans-117\"/>\r\n      <use x=\"286.871094\" xlink:href=\"#DejaVuSans-101\"/>\r\n      <use x=\"348.394531\" xlink:href=\"#DejaVuSans-110\"/>\r\n      <use x=\"411.773438\" xlink:href=\"#DejaVuSans-99\"/>\r\n      <use x=\"466.753906\" xlink:href=\"#DejaVuSans-121\"/>\r\n     </g>\r\n    </g>\r\n   </g>\r\n   <g id=\"patch_13\">\r\n    <path d=\"M 59.690625 224.64 \r\nL 59.690625 7.2 \r\n\" style=\"fill:none;stroke:#000000;stroke-linecap:square;stroke-linejoin:miter;stroke-width:0.8;\"/>\r\n   </g>\r\n   <g id=\"patch_14\">\r\n    <path d=\"M 394.490625 224.64 \r\nL 394.490625 7.2 \r\n\" style=\"fill:none;stroke:#000000;stroke-linecap:square;stroke-linejoin:miter;stroke-width:0.8;\"/>\r\n   </g>\r\n   <g id=\"patch_15\">\r\n    <path d=\"M 59.690625 224.64 \r\nL 394.490625 224.64 \r\n\" style=\"fill:none;stroke:#000000;stroke-linecap:square;stroke-linejoin:miter;stroke-width:0.8;\"/>\r\n   </g>\r\n   <g id=\"patch_16\">\r\n    <path d=\"M 59.690625 7.2 \r\nL 394.490625 7.2 \r\n\" style=\"fill:none;stroke:#000000;stroke-linecap:square;stroke-linejoin:miter;stroke-width:0.8;\"/>\r\n   </g>\r\n  </g>\r\n </g>\r\n <defs>\r\n  <clipPath id=\"p0dfdd6b091\">\r\n   <rect height=\"217.44\" width=\"334.8\" x=\"59.690625\" y=\"7.2\"/>\r\n  </clipPath>\r\n </defs>\r\n</svg>\r\n",
      "image/png": "[encoded data removed]"
     },
     "metadata": {
      "needs_background": "light"
     }
    }
   ],
   "source": [
    "user_data['log_hours'].plot(kind='hist')"
   ]
  },
  {
   "cell_type": "code",
   "execution_count": 27,
   "metadata": {
    "tags": [
     "outputPrepend"
    ]
   },
   "outputs": [
    {
     "output_type": "stream",
     "name": "stdout",
     "text": "ngs Complete', 'Puzzle Chronicles', 'BattleSpace', 'Adventurer Manager', 'GoD Factory Wingmen', 'A.R.E.S. Extinction Agenda EX', 'Harvest Massive Encounter', 'Servo', 'Void Destroyer', 'Chroma Squad', 'Velvet Assassin', 'Guild Commander', 'Hacker Evolution Duality', 'Swarm Arena', 'Sokobond', 'Ys I', 'Legacy of Kain Soul Reaver', 'Slam Bolt Scrappers', 'Project Snowblind', 'Velocibox', 'PixelJunk Shooter Ultimate', 'The Settlers 7 Paths to a Kingdom', 'Space Hulk Ascension', 'Aion Collectors Edition', 'The Masterplan', 'Blood Bowl Dark Elves Edition', \"Tom Clancy's H.A.W.X.\", 'Buccaneer The Pursuit of Infamy', 'Age of Conan Rise of the Godslayer', 'Crusaders Thy Kingdom Come', 'Star Ruler', 'Star Wolves 3 Civil War', 'The Old Tree', 'Shadowgate MacVenture Series', 'Legends of Pegasus', 'Silent Hunter 5 Battle of the Atlantic', 'My Lands', 'SC2VN - The eSports Visual Novel', 'The Night of the Rabbit', 'The Jackbox Party Pack 2', 'Gun Metal', 'The Incredible Adventures of Van Helsing III', 'Lara Croft and the Temple of Osiris', 'Beyond Divinity', 'Unium', 'ComaMortuary', 'Chaos Domain', 'Wolfenstein The Old Blood German Edition', 'MX vs. ATV Reflex', 'Choice Chamber', 'Ascendant', 'Our Darker Purpose', 'Black Ice', 'Firefly Online Cortex', 'Tales Runner', 'Praetorians', 'rymdkapsel', 'GTR Evolution', 'Caribbean!', 'Legends of Eisenwald', 'Clockwork Empires', 'Trucks & Trailers', 'Community College Hero Trial by Fire', \"Scratches Director's Cut\", 'BAD END', 'Xam', 'Higurashi When They Cry - Ch.1 Onikakushi', 'Gaokao.Love.100Days', 'The Clans - Saga of the Twins', 'X-note', 'eden*', 'Bedlam', 'Blue Rose', 'Rising Angels Reborn', 'American Conquest', 'Bloodwood Reload', \"AKIBA'S TRIP Undead & Undressed\", 'Damnation City of Death', 'Warrior Kings Battles', 'Pink Heaven', 'Jagged Alliance Online - Steam Edition', \"Shantae and the Pirate's Curse\", 'Over 9000 Zombies!', 'Pox Nora', 'Corporate Lifestyle Simulator', 'Prince of Persia The Two Thrones', 'Space Trader Merchant Marine', 'Big Brain Wolf', 'Tank Universal', 'Homebrew - Vehicle Sandbox', 'Mensa Academy', 'Frontlines Fuel of War', 'Larva Mortus', 'Alpha Prime', 'Puzzle Bots', 'Damnation', 'RIP 3 The Last Hero', 'Diamond Dan', 'Mr. Robot', 'Commander Conquest of the Americas Gold', 'MX vs. ATV Supercross Encore', 'Chainsaw Warrior', 'Chainsaw Warrior Lords of the Night', 'Terrain Test', 'Heroes of Might & Magic V Hammers of Fate', 'DRAKERZ-Confrontation', 'Championship Manager 2008', 'Dead Realm', 'iO', 'Real Horror Stories Ultimate Edition', 'One Late Night Deadline', 'Everyday Genius SquareLogic', 'Lumines', 'Pat & Mat', 'Elven Legacy', 'King of Dragon Pass', 'Jagged Alliance 2 Gold Pack', 'Wings! Remastered Edition', \"Broken Sword 1 - Shadow of the Templars Director's Cut\", 'Driftmoon', 'Black Fire', 'Call of Cthulhu Dark Corners of the Earth', \"Zuma's Revenge! - Adventure\", 'Crowntakers', 'Etherlords II', 'Football Tactics', 'Rugby Challenge 2', 'Blacklight Tango Down', 'Giana Sisters Twisted Dreams - Rise of the Owlverlord', 'Among Ripples', 'Worms', 'Brothers in Arms Road to Hill 30', \"Cabela's Dangerous Hunts 2013\", 'Movie Studio 13 Platinum - Steam Powered', 'Action! - Gameplay Recording and Streaming', 'Runers', 'Crawl', 'FarSky', 'Black Ink', 'Obscure', 'Fancy Skulls', 'Vagante', 'Obscure 2', 'Grand Class Melee 2', 'ENKI', 'Down To One', 'Year Walk', 'Dustoff Heli Rescue', 'FRACT OSC', 'Babel Rising', 'Haunted House', 'Flower Shop Winter In Fairbrook', 'Joe Danger', 'Republique', 'Microsoft Flight', 'Still Life', 'Putt-Putt Travels Through Time', 'Putt-Putt Joins the Circus', 'Putt-Putt Saves the Zoo', 'Nancy Drew The White Wolf of Icicle Creek', \"Memoir '44 Online\", 'Nancy Drew Curse of Blackmoor Manor ', 'Nancy Drew Secrets can Kill', 'Nancy Drew Secret of the Scarlet Hand ', 'Delta Force 2', 'Street Racing Syndicate', 'Hatred', 'OCEAN CITY RACING', 'ONE PIECE PIRATE WARRIORS 3', 'Astro Lords', 'Max The Curse of Brotherhood', 'Road Not Taken', 'TRI Of Friendship and Madness', '9.03m', 'Castle of Illusion', 'A New Beginning - Final Cut', 'WRC Powerslide', 'Airport Simulator 2014', 'Lumino City', 'An Assassin in Orlandes', 'Akane the Kunoichi', 'Crazy Machines', 'Mini Motor Racing EVO', 'Test Drive Ferrari Racing Legends', 'Adventure Park', 'Victory The Age of Racing', 'OlliOlli', 'Crouching Pony Hidden Dragon', 'Arcane Worlds', \"Axis Game Factory's AGFPRO 3.0\", 'Ignite', \"Disciples II Gallean's Return\", 'Borderless Gaming', 'Hexcells', 'RPG Maker MV', 'Impossible Creatures', 'Broken Sword 4 - the Angel of Death', 'Sanitarium', 'Downwell', 'Monopoly', 'Oh...Sir!', 'Kane & Lynch Dead Men', 'The Novelist', 'Faces of War', 'AION Free-to-Play', 'FATE', 'Tiny Troopers', 'Gumboy Crazy Adventures', 'Vigil Blood Bitterness', 'Wizardry Online', 'MLB 2K12', 'Magic The Gathering  Tactics', 'Fritz Chess 14', 'Hollywood Visionary', 'Sword Coast Legends', 'The Banner Saga Factions', 'Rise of the Argonauts', 'District 187', 'TUG', 'Battle Academy', 'Close Combat - Gateway to Caen', 'Battle Academy 2 Eastern Front', 'Victory At Sea', 'Crossfire Europe', 'Hard Truck Apocalypse Rise Of Clans / Ex Machina Meridian 113', 'The Slaughtering Grounds', 'Flesh Eaters', 'One Way To Die Steam Edition', 'Split/Second', 'Containment The Zombie Puzzler', 'Project Explore', 'Actual Sunlight', 'Weird Worlds Return to Infinite Space', 'Orborun', 'Space Warp', 'Earth Defense Force Insect Armageddon', 'Tomb Raider The Last Revelation', 'Watchmen The End Is Nigh', 'Heli Heroes', 'Theme Park Studio', 'RollerCoaster Tycoon', 'Genesis Rising', 'Earth 2150 Trilogy', 'CivCity Rome', 'Nexus The Jupiter Incident', 'Aggression Europe Under Fire', 'Original War', 'On the Rain-Slick Precipice of Darkness, Episode Two', 'Lamia Must Die', 'Salt', 'Nancy Drew Danger By Design', 'Making History The Calm & The Storm', 'Battle of Empires  1914-1918', 'Company of Heroes Europe at War', 'Dawn of Discovery', 'The Silent Age', 'hocus', 'Ski Region Simulator', 'Broken Sword 2 - the Smoking Mirror Remastered', 'Silent Hunter Wolves of the Pacific', 'DCS Black Shark', 'Thunder Wolves', 'Cubot', 'Battle Los Angeles', 'Beasts of Prey', 'MoW Face Off M', 'Else Heart.Break()', 'Revelations 2012', 'Super Game Jam', 'Cricket Revolution', 'Thief Town', 'Eidolon', 'Guild Wars Game of the Year', 'Runaway A Road Adventure', 'GundeadliGne', 'Gundemonium Recollection', 'Hitogata Happa', 'Woody Two-Legs Attack of the Zombie Pirates', \"Tom Clancy's Splinter Cell Double Agent\", 'Air Conflicts - Secret Wars', 'TRANSFORMERS Rise of the Dark Spark', 'Steredenn', 'Drunken Robot Pornography', 'Requiem', 'RWBY Grimm Eclipse', \"Dragon's Prophet (EU)\", 'The Settlers Online', 'Call of Juarez', \"Jets'n'Guns Gold\", 'Music Creator 6 Touch', 'Albino Lullaby Episode 1', \"Leo's Fortune\", \"YOU DON'T KNOW JACK Vol. 2\", 'CreaVures', 'Carmageddon 2 Carpocalypse Now', '10 Second Ninja', \"Montague's Mount\", 'Aveyond 3-1 Lord of Twilight', 'SanctuaryRPG Black Edition', 'The Cat and the Coup', 'bit Dungeon II', 'Numen Contest of Heroes', 'Outcast 1.1', 'Tesla Effect', 'Memento Mori 2', 'Secret Files Puritas Cordis', 'Gray Matter', 'The Book of Unwritten Tales 2', 'realMyst Masterpiece Edition', 'Secret Files Sam Peters', 'Haunted', 'Hook', 'The Floor is Jelly', 'The Dream Machine', 'Abducted', 'Last Knight Rogue Rider Edition', 'Huntsman - The Orphanage Halloween Edition', 'Dev Guy', 'Cultures - Northland', 'Chocolatier Decadence by Design', 'Alien Breed 3 Descent', \"Clive Barker's Jericho\", 'Post Mortem', 'Agricultural Simulator 2013 Steam Edition', 'Bus-Simulator 2012', 'Firefighters 2014', 'Arma Combat Operations', 'Conquest of Champions', 'The Collider', 'City of Steam Arkadia', 'Zoombinis', 'Please, Dont Touch Anything', 'UFO Aftermath', 'Ford Racing 3', 'oO', 'Shattered Union', 'Port Royale 2', 'Submerged', 'Terrorhedron', 'Blitzkrieg 2 Anthology', 'Duke Nukem Forever ', 'Disciples Sacred Lands Gold', 'Gorky 17', 'Hard Truck Apocalypse / Ex Machina', 'Farm Machines Championships 2014', 'Sandmason', \"Joe Dever's Lone Wolf HD Remastered\", 'Conflict Denied Ops', 'Rogue Trooper', 'Ys VI The Ark of Napishtim', 'Shellshock 2 Blood Trails', 'Shipwreck', 'Demonicon', 'Crimsonland', 'Yosumin!', 'StarMade', 'Neverending Nightmares', 'Deus Ex Revision', \"Flora's Fruit Farm\", 'FOTONICA', 'Remnants Of Isolation', \"Tom Clancy's Ghost Recon Advanced Warfighter\", 'Ancient Space', 'Sweet Lily Dreams', 'Stardust Vanguards', 'Squirreltopia', 'Minimon', 'Pongo', 'GemCraft - Chasing Shadows', 'Metal Planet', 'Oniken', 'Keen Dreams', 'The Campaign Series Fall Weiss', 'Fortix 2', 'Depth Hunter 2 Deep Dive', \"Letter Quest Grimm's Journey\", \"Super 3-D Noah's Ark\", \"Letter Quest Grimm's Journey Remastered\", 'Incoming Forces', 'Cast of the Seven Godsends', 'War, the Game', 'Colin McRae Rally', 'Strategic War in Europe', '1953 NATO vs Warsaw Pact', 'Into the Dark', 'Speed Kills', 'Battle vs Chess', 'Bloodbath Kavkaz', 'The Few', 'Starion Tactics', 'GunWorld', 'The Samaritan Paradox', 'Cyto', 'Alpha Kimori Episode One ', 'Deadly Profits', 'Narco Terror', 'Echelon', 'Residue Final Cut', 'Total War Battles SHOGUN', '1Quest', 'Power-Up', 'BlazBlue Calamity Trigger', 'Smooth Operators', 'Vox', 'Farming World', 'SpellForce 2 - Demons of the Past', 'Circuits', 'Draconian Wars', 'SCHAR Blue Shield Alliance', 'The Sun at Night', 'Pacific Storm', 'T.E.C. 3001', 'Retro/Grade', 'Paper Sorcerer', 'Horizon Shift', 'Guilty Gear Isuka', 'Demise of Nations Rome', 'Escape Goat', 'Dysan the Shapeshifter', 'Magnetic By Nature', 'Skyward Collapse', 'Rhythm Destruction', 'Ittle Dew', 'Post Master ', 'Strife Veteran Edition', 'Shadows of War', 'Constant C', 'Freedom Fall', 'Gunslugs 2', 'The Lost Crown', 'Super Motherload', 'Volt', 'Dungeons The Eye of Draconus', 'Eleusis', 'Dreaming Sarah', 'Death Rally', 'Choice of Robots', 'The Club', 'Dead State', 'Silent Storm Sentinels', 'Shan Gui', 'The Incredible Adventures of Van Helsing Final Cut', 'Wizardry 7 Crusaders of the Dark Savant', 'Tryst', \"Zombie Tycoon 2 Brainhov's Revenge\", 'Demolition, Inc.', 'Tkl Online', 'Treasure Planet Battle at Procyon', 'Seven Kingdoms 2 HD', 'Ghostbusters Sanctum of Slime', 'BloodLust Shadowhunter', 'Roogoo', 'Neighbours from Hell', 'Neighbours from Hell 2', 'Runestone Keeper', 'Azure Striker Gunvolt', 'Mighty Gunvolt', 'Devil May Cry 4 Special Edition', 'Clutch', 'BIT.TRIP FATE', 'Carnage Racing', 'Infinifactory', 'Splice', 'World Basketball Manager 2010', 'Commandos Beyond the Call of Duty', 'Inside a Star-filled Sky ', 'Farming Giant', 'Imperium Romanum Gold Edition', 'TransOcean The Shipping Company', 'Children of the Nile Alexandria', 'Airline Tycoon Deluxe', 'Universal Combat CE', 'Septerra Core', 'Timberman', 'Enforcer Police Crime Action', 'Pro Rugby Manager 2015', 'ToCA Race Driver 3', 'R.O.O.T.S', 'Angvik', 'Delta Force Black Hawk Down - Team Sabre', 'Diaper Dash', 'Delve Deeper', 'Lightfish', 'Fractal Make Blooms Not War', 'Invisible Apartment', 'Hylics', 'The Stalin Subway', 'Fiesta Online NA', \"Cabela's Hunting Expeditions\", 'Midnight Club II', 'Spoiler Alert', 'Warehouse and Logistics Simulator', 'RPG Maker 2000', 'Last Word', 'War in a Box Paper Tanks', 'RPG Maker XP', 'Commando Jack', 'Shark Attack Deathmatch 2', 'Jagged Alliance Crossfire', 'Another Perspective', 'Organic Panic', 'LA Cops', 'Combat Wings Battle of Britain', 'Pro Evolution Soccer 2014', 'Divinity II - Ego Draconis', 'Rodina', 'TyranoBuilder Visual Novel Studio', 'Dex', 'Westerado Double Barreled', 'Heavy Bullets', 'Famaze', 'Sky Nations', 'Manyland', 'Kill Fun Yeah', 'KWAAN', 'Trouble In The Manor', 'New Star Soccer 5', 'The Black Watchmen', 'Tiamat X', 'Scarygirl', \"Bard's Gold\", 'Glare', 'Rooms The Unsolvable Puzzle', 'Breezeblox', 'Super Panda Adventures', 'Millie', 'Rotieer', \"Traps N' Gemstones\", \"Fatty Maze's Adventures\", 'Reversi', 'Shiny The Firefly', 'Stonerid', 'Mr. Bree+', 'Amazing Princess Sarah', 'Silent Hunter Wolves of the Pacific U-Boat Missions', \"Assassin's Creed Rogue\", 'APOX', 'Cities XXL', 'Alganon', 'Gurumin A Monstrous Adventure', 'Nimble Writer', 'Kings of Kung Fu', 'Majesty Gold Edition', 'FLOCK!', 'Darkstone', 'Spriter Pro', 'Close Your Eyes', 'Paint the Town Red', 'Heroes and Titans Online', 'Mad Games Tycoon', 'Railroad Pioneer', 'RESCUE 2', 'Imagine Earth', 'Farlight Explorers', 'Children of the Nile', 'Call of Duty United Offensive', 'Call of Duty', 'Rune Classic', 'Pretty Girls Mahjong Solitaire', 'Stargate Resistance', 'Environmental Station Alpha', 'Stick RPG 2', 'Just Get Through', 'Volume', 'Shallow Space', 'Snapshot', 'English Country Tune', 'Sunrider Academy', 'GamersGoMakers', 'Empire TV Tycoon', 'Game Tycoon 1.5', \"Buzz Aldrin's Space Program Manager\", 'Apollo4x', 'Saturday Morning RPG', 'Deadlings - Rotten Edition', 'Showtime!', 'Escape Machines', 'Spooky Cats', 'Anomaly Warzone Earth Mobile Campaign', 'Royal Defense', 'Taxi', 'Into The War', 'Infect and Destroy', 'World War II Panzer Claws', 'Ironcast', 'The Swindle', 'Puzzle Quest 2', 'Warhammer 40,000 Armageddon', 'Etherium', 'Monster Loves You!', 'Sniper Elite Zombie Army 2', 'Rulers of Nations', 'Qvadriga', 'Elite Dangerous Horizons', 'UFO Afterlight', 'Don Bradman Cricket 14', 'CameraBag 2', 'Aqua Kitty - Milk Mine Defender', 'Blazing Angels Squadrons of WWII', 'Blazing Angels 2 Secret Missions of WWII', 'Song of the Myrne What Lies Beneath', 'Wolfenstein', 'Painkiller Resurrection', 'Fair Strike', 'Gunship!', 'Shadow of Kingdoms', 'Operation Z', 'Mega Man Legacy Collection', 'Knightmare Tower', 'Violett', 'David.', 'Substance Painter', \"Anna's Quest\", 'Amnesia Memories', 'Windborne', 'Fading Hearts', 'Crystals of Time', 'Beyond Eyes', 'Dark Echo', 'Alter World', 'Jagged Alliance 2 - Wildfire ', 'Lucius II', 'Cognition An Erica Reed Thriller', 'Dark Fall Lost Souls', 'Sherlock Holmes and The Hound of The Baskervilles', 'The Whispered World Special Edition', 'Light', 'Pineview Drive', 'BloodRayne 2', 'Real World Racing', 'Parkan 2', 'Detective Grimoire', 'Dracula Origin', 'A Golden Wake', 'Claire', 'SickBrick', 'Dark Fall 1 The Journal', 'Tree of Life', 'World of Mixed Martial Arts 3', 'The Witcher Adventure Game', 'The Curious Expedition', 'Planet of the Eyes', 'FIST OF AWESOME', 'Zotrix', 'Akuatica', 'Darkout', 'System Protocol One', 'Twin Sector', 'IL-2 Sturmovik Battle of Stalingrad', 'Toybox Turbos', 'Introduction to 3D Prop Modeling and Design - Viking Armor and Weapons', \"Shantae Risky's Revenge - Director's Cut\", 'ZOMBI', 'European Ship Simulator', 'Science Girls', 'Euro Fishing', 'Flashback', 'Order of War Challenge', 'Karate Master 2 Knock Down Blow', 'ArchonClassic', \"Tom Clancy's Rainbow Six Vegas\", 'Jagged Alliance Flashback', 'Fieldrunners 2', 'Condemned Criminal Origins', 'Game Character Hub', 'Armello', 'Dangerous Waters', 'Dungeonbowl Knockout Edition', 'The Whispered World', \"Dead Mountaineer's Hotel\", 'NecroVisioN Lost Company', 'Runaway A Twist of Fate', 'NBA 2K11', 'Yesterday', 'Bridge Constructor Medieval', 'NEED FOR MADNESS ?', 'The Entente Gold', 'Max Gentlemen', 'Mainland', 'One Night', 'Better Late Than DEAD', 'Wildlife Park 3', 'SuperPower 2 Steam Edition', 'Real Boxing', 'I-Fluid', 'Space Ace', 'D.U.S.T.', 'Pro Cycling Manager Season 2009', 'Shadow Harvest Phantom Ops', 'NBA 2K12', 'Duck Dynasty', 'Family Guy Back to the Multiverse', 'Collapse', 'Legacy of Kain Soul Reaver 2', 'Pink Hour', 'SPACECOM', '3DMark 11', 'Sublevel Zero', \"Tom Clancy's Ghost Recon\", 'Auditorium', 'Killing Floor Beta', 'Freight Tycoon Inc.', 'Pro Evolution Soccer 2013', 'Breach', 'Deathtrap', \"Penny Arcade's On the Rain-Slick Precipice of Darkness 4\", 'FATE Undiscovered Realms', \"Putt-Putt and Pep's Balloon-o-Rama\", 'Dream Pinball 3D', \"Freddi Fish and Luther's Maze Madness\", 'Panzer Tactics HD', 'Geometry Wars 3 Dimensions Evolved', 'Ashes of the Singularity', 'Autocraft', 'Battlegrounds of Eldhelm', 'Startopia', 'STAR WARS X-Wing vs. TIE Fighter', 'Rescue Everyday Heroes', 'STAR WARS X-Wing Alliance', 'Critter Crunch', 'FINAL FANTASY IV', 'Sniper Elite Zombie Army', 'Games of Glory', 'Motorbike', 'Adventure Chronicles The Search For Lost Treasure', 'Reaper - Tale of a Pale Swordsman', 'Delta Force Black Hawk Down', 'Wasteland 1 - The Original Classic', 'Naval Warfare', 'Castaway Paradise', 'Hello Kitty and Sanrio Friends Racing', 'Raiden Legacy', 'Bionic Commando', 'Afterfall InSanity - Dirty Arena Edition', 'Waves', 'BlazeRush', 'Supreme Ruler 2020 Gold', 'Omegalodon', 'Championship Manager 2010', 'Lords of the Realm II', 'Lords of Magic Special Edition', 'Puzzle Quest Galactrix', 'Razor2 Hidden Skies', 'Rake', 'Dinosaur Hunt Africa Contract', 'Reveal The Deep', 'Guardians of Orion', 'Island Flight Simulator', 'liteCam Game 100 FPS Game Capture', 'Bullet Heaven 2', 'Realms of the Haunting', 'Psycho Starship Rampage', 'GUN', 'B.U.T.T.O.N.', 'LEGO Pirates of the Caribbean The Video Game', 'Red Stone Online', 'The UnderGarden', 'Mortal Kombat Legacy II - Ep. 1 Reunited in Macau', 'Block Story', 'The Gate', \"NOBUNAGA'S AMBITION Kakushin with Power Up Kit\", 'Avernum 4', 'Avernum 5', 'Eschalon Book 2', 'Drakensang', 'Avernum 6', 'Eschalon Book 1', 'Freedom Force vs. the 3rd Reich', 'Arcadia', \"Tom Clancy's Ghost Recon Advanced Warfighter 2\", 'The Fish Fillets 2', 'Over the Dream', 'Asteria', 'Serious Sam Classics Revolution', 'AZMD! Scorepocalypse ', 'Earth 2150 The Moon Project', 'Earth 2150 Lost Souls', 'NASCAR The Game 2013', 'UFO Extraterrestrials Gold', 'Party Hard', 'Riding Star', 'Imperial Glory', 'Monochroma', 'Wildlife Park 2', 'Wildlife Park 2 - Marine World', 'The Clockwork Man The Hidden World', 'Nancy Drew Lights, Camera, Curses!', 'Season of Mystery  The Cherry Blossom Murders', 'NightShift Code', 'Midnight Mysteries Salem Witch Trials', 'Midnight Mysteries 4 Haunted Houdini', 'Midnight Mysteries 3 Devil on the Mississippi', 'Samantha Swift and the Golden Touch', 'Planets Under Attack', 'Jack Keane', 'Atlantica Online', 'RECYCLE', 'Decay - The Mare', 'Starscape', 'SpaceForce Rogue Universe', 'Battle Group 2', 'Convoy', 'Realms of Arkania 3 - Shadows over Riva Classic', 'Jumpdrive', 'Digital Combat Simulator A-10C Warthog', '1701 A.D. Sunken Dragon', 'Maelstrom', 'AR-K', 'Chrome', 'Kill The Bad Guy', 'Space Siege', 'Anachronox', 'Habitat', 'Chrome Specforce', 'Paranautical Activity Deluxe Atonement Edition', 'Kung Fury Street Rage', 'FRONTIERS', 'rFactor 2', 'Nancy Drew Ghost Dogs of Moon Lake ', 'Fast & Furious Showdown', \"Dragon's Lair 2 Time Warp\", 'Doodle God', 'Cloudy with a Chance of Meatballs', 'Max and the Magic Marker', 'Nostradamus The Last Prophecy', 'Airport Madness World Edition', 'Wildlife Park 2 - Dino World', 'Potatoman Seeks the Troof', 'Lunch Truck Tycoon', 'aerofly RC 7', 'Haunt the House Terrortown', 'Aces Wild Manic Brawling Action!', \"D4 Dark Dreams Don't Die\", 'BloodRayne', 'Carmageddon Max Pack', 'Coniclysm', 'Alien Shooter Revisited', 'Eastside Hockey Manager', 'Franchise Hockey Manager 2', 'Kohan Immortal Sovereigns', 'Avadon 2 The Corruption', 'Drakensang The River of Time', 'Jacob Jones and the Bigfoot Mystery  Episode 2', 'Battle Brothers', 'Maszyny Rolnicze 2015', 'Strong Bad Episode 3 Baddest of the Bands', 'Strong Bad Episode 2 Strong Badia the Free', 'Strong Bad Episode 4 Dangeresque 3', 'BIT.TRIP VOID', 'BIT.TRIP CORE', 'Parcel', 'Nancy Drew The Haunted Carousel', 'Abandoned Chestnut Lodge Asylum', 'Hector Ep 2', 'The Otherside', 'Drawn The Painted Tower', 'Fire', 'Kuros', 'Back to Bed', 'Nancy Drew The Creature of Kapu Cave', 'Legend of Fae', 'Hotel Dash', 'Diner Dash Hometown Hero', 'DinerTown Tycoon', 'Worldwide Soccer Manager 2009', 'MLB 2K10', 'MLB 2K11', 'Out of the Park Baseball 14', 'Kohan II Kings of War', 'The Impossible Game', 'Khet 2.0', 'Adventure Time  Explore the Dungeon Because I DONT KNOW!', 'Ride! Carnival Tycoon', 'SAMURAI WARRIORS 4-II', 'The Bug Butcher', 'Romance of the Three Kingdoms Maker', 'Space Colony', 'Life is Hard', 'Executive Assault', 'O.R.B.', 'MirrorMoon EP']\n"
    }
   ],
   "source": [
    "l = list(user_data['app_name'].unique())\n",
    "print(l)"
   ]
  },
  {
   "cell_type": "code",
   "execution_count": 28,
   "metadata": {},
   "outputs": [],
   "source": [
    "app_data['name_no_colon'] = app_data['name'].apply(lambda x: x.replace(':',''))"
   ]
  },
  {
   "cell_type": "code",
   "execution_count": 29,
   "metadata": {},
   "outputs": [],
   "source": [
    "user_apps = pd.merge(user_data,app_data, how='left',left_on='app_name',right_on='name_no_colon')"
   ]
  },
  {
   "cell_type": "code",
   "execution_count": 30,
   "metadata": {},
   "outputs": [],
   "source": [
    "user_apps.drop(['app_name','platforms','average_forever','average_2weeks','median_forever','median_2weeks','owners','name_no_colon'], axis=1,inplace=True)"
   ]
  },
  {
   "cell_type": "code",
   "execution_count": 31,
   "metadata": {},
   "outputs": [
    {
     "output_type": "execute_result",
     "data": {
      "text/plain": "     user_id  hours  log_hours     appid                         name is_free  \\\n0  151603712  273.0   5.613128   72850.0  The Elder Scrolls V: Skyrim   False   \n1  151603712   87.0   4.477337  377160.0                    Fallout 4   False   \n2  151603712   14.9   2.766319   17390.0                        Spore   False   \n3  151603712   12.1   2.572612   22380.0           Fallout: New Vegas   False   \n4  151603712    8.9   2.292535     550.0                Left 4 Dead 2   False   \n\n                 developers  \\\n0   [Bethesda Game Studios]   \n1   [Bethesda Game Studios]   \n2                  [Maxis™]   \n3  [Obsidian Entertainment]   \n4                   [Valve]   \n\n                                          categories  release_date  \\\n0  [Single-player, Steam Achievements, Steam Trad...  10 Nov, 2011   \n1  [Single-player, Steam Achievements, Full contr...   9 Nov, 2015   \n2                                    [Single-player]  19 Dec, 2008   \n3  [Single-player, Steam Achievements, Partial Co...  21 Oct, 2010   \n4  [Single-player, Multi-player, PvP, Online PvP,...  19 Nov, 2009   \n\n            publisher  positive  negative  \\\n0  Bethesda Softworks  265979.0   15307.0   \n1  Bethesda Softworks  150672.0   48110.0   \n2     Electronic Arts   21616.0    2426.0   \n3  Bethesda Softworks   91268.0    3698.0   \n4               Valve  343173.0   10379.0   \n\n                                           languages  \\\n0  English, French, German, Italian, Spanish - Sp...   \n1  English, French, Italian, German, Spanish - Sp...   \n2  English, Czech, Danish, German, Spanish - Spai...   \n3  English, French, German, Italian, Spanish - Spain   \n4  English, Danish, Dutch, Finnish, French, Germa...   \n\n                                                tags   price released  \\\n0  {'Open World': 9786, 'RPG': 8503, 'Fantasy': 6...   999.0     True   \n1  {'Open World': 8427, 'Post-apocalyptic': 7825,...  1999.0     True   \n2  {'Simulation': 1163, 'Sandbox': 962, 'Open Wor...  1799.0     True   \n3  {'Open World': 3479, 'RPG': 3331, 'Post-apocal...   799.0     True   \n4  {'Zombies': 19730, 'Co-op': 10149, 'FPS': 9133...   719.0     True   \n\n   median_owners  \n0      7500000.0  \n1      7500000.0  \n2      3500000.0  \n3      3500000.0  \n4     35000000.0  ",
      "text/html": "<div>\n<style scoped>\n    .dataframe tbody tr th:only-of-type {\n        vertical-align: middle;\n    }\n\n    .dataframe tbody tr th {\n        vertical-align: top;\n    }\n\n    .dataframe thead th {\n        text-align: right;\n    }\n</style>\n<table border=\"1\" class=\"dataframe\">\n  <thead>\n    <tr style=\"text-align: right;\">\n      <th></th>\n      <th>user_id</th>\n      <th>hours</th>\n      <th>log_hours</th>\n      <th>appid</th>\n      <th>name</th>\n      <th>is_free</th>\n      <th>developers</th>\n      <th>categories</th>\n      <th>release_date</th>\n      <th>publisher</th>\n      <th>positive</th>\n      <th>negative</th>\n      <th>languages</th>\n      <th>tags</th>\n      <th>price</th>\n      <th>released</th>\n      <th>median_owners</th>\n    </tr>\n  </thead>\n  <tbody>\n    <tr>\n      <th>0</th>\n      <td>151603712</td>\n      <td>273.0</td>\n      <td>5.613128</td>\n      <td>72850.0</td>\n      <td>The Elder Scrolls V: Skyrim</td>\n      <td>False</td>\n      <td>[Bethesda Game Studios]</td>\n      <td>[Single-player, Steam Achievements, Steam Trad...</td>\n      <td>10 Nov, 2011</td>\n      <td>Bethesda Softworks</td>\n      <td>265979.0</td>\n      <td>15307.0</td>\n      <td>English, French, German, Italian, Spanish - Sp...</td>\n      <td>{'Open World': 9786, 'RPG': 8503, 'Fantasy': 6...</td>\n      <td>999.0</td>\n      <td>True</td>\n      <td>7500000.0</td>\n    </tr>\n    <tr>\n      <th>1</th>\n      <td>151603712</td>\n      <td>87.0</td>\n      <td>4.477337</td>\n      <td>377160.0</td>\n      <td>Fallout 4</td>\n      <td>False</td>\n      <td>[Bethesda Game Studios]</td>\n      <td>[Single-player, Steam Achievements, Full contr...</td>\n      <td>9 Nov, 2015</td>\n      <td>Bethesda Softworks</td>\n      <td>150672.0</td>\n      <td>48110.0</td>\n      <td>English, French, Italian, German, Spanish - Sp...</td>\n      <td>{'Open World': 8427, 'Post-apocalyptic': 7825,...</td>\n      <td>1999.0</td>\n      <td>True</td>\n      <td>7500000.0</td>\n    </tr>\n    <tr>\n      <th>2</th>\n      <td>151603712</td>\n      <td>14.9</td>\n      <td>2.766319</td>\n      <td>17390.0</td>\n      <td>Spore</td>\n      <td>False</td>\n      <td>[Maxis™]</td>\n      <td>[Single-player]</td>\n      <td>19 Dec, 2008</td>\n      <td>Electronic Arts</td>\n      <td>21616.0</td>\n      <td>2426.0</td>\n      <td>English, Czech, Danish, German, Spanish - Spai...</td>\n      <td>{'Simulation': 1163, 'Sandbox': 962, 'Open Wor...</td>\n      <td>1799.0</td>\n      <td>True</td>\n      <td>3500000.0</td>\n    </tr>\n    <tr>\n      <th>3</th>\n      <td>151603712</td>\n      <td>12.1</td>\n      <td>2.572612</td>\n      <td>22380.0</td>\n      <td>Fallout: New Vegas</td>\n      <td>False</td>\n      <td>[Obsidian Entertainment]</td>\n      <td>[Single-player, Steam Achievements, Partial Co...</td>\n      <td>21 Oct, 2010</td>\n      <td>Bethesda Softworks</td>\n      <td>91268.0</td>\n      <td>3698.0</td>\n      <td>English, French, German, Italian, Spanish - Spain</td>\n      <td>{'Open World': 3479, 'RPG': 3331, 'Post-apocal...</td>\n      <td>799.0</td>\n      <td>True</td>\n      <td>3500000.0</td>\n    </tr>\n    <tr>\n      <th>4</th>\n      <td>151603712</td>\n      <td>8.9</td>\n      <td>2.292535</td>\n      <td>550.0</td>\n      <td>Left 4 Dead 2</td>\n      <td>False</td>\n      <td>[Valve]</td>\n      <td>[Single-player, Multi-player, PvP, Online PvP,...</td>\n      <td>19 Nov, 2009</td>\n      <td>Valve</td>\n      <td>343173.0</td>\n      <td>10379.0</td>\n      <td>English, Danish, Dutch, Finnish, French, Germa...</td>\n      <td>{'Zombies': 19730, 'Co-op': 10149, 'FPS': 9133...</td>\n      <td>719.0</td>\n      <td>True</td>\n      <td>35000000.0</td>\n    </tr>\n  </tbody>\n</table>\n</div>"
     },
     "metadata": {},
     "execution_count": 31
    }
   ],
   "source": [
    "user_apps.head()"
   ]
  },
  {
   "cell_type": "code",
   "execution_count": 32,
   "metadata": {},
   "outputs": [],
   "source": [
    "app_tags = app_data[['appid','name','tags']]"
   ]
  },
  {
   "cell_type": "code",
   "execution_count": 33,
   "metadata": {},
   "outputs": [
    {
     "output_type": "execute_result",
     "data": {
      "text/plain": "         appid                          name  \\\n0      1257010            Passage to Malkuth   \n1      1257190             VR Mini Bowling 2   \n2      1257210              Rabbit Simulator   \n3      1257270   The Valley of Super Flowers   \n4      1257280             Monuments Flipper   \n...        ...                           ...   \n39921   990720                       Bookend   \n39922   990740  The Second Chance Strip Club   \n39923   990750  RoboSnakes: Core Wars Legacy   \n39924   990840              Running Tadpoles   \n39925   990850              Yanpai Simulator   \n\n                                                    tags  \n0                                                     []  \n1      {'Indie': 31, 'Casual': 31, 'Sports': 31, 'VR'...  \n2      {'Casual': 132, 'Simulation': 132, 'Indie': 13...  \n3      {'Action': 57, 'Indie': 56, 'Casual': 56, 'Vio...  \n4                                                     []  \n...                                                  ...  \n39921                                      {'Indie': 22}  \n39922                                                 []  \n39923  {'Strategy': 31, 'Indie': 31, 'Early Access': ...  \n39924                                                 []  \n39925  {'Simulation': 36, 'Adventure': 32, 'Action': ...  \n\n[39753 rows x 3 columns]",
      "text/html": "<div>\n<style scoped>\n    .dataframe tbody tr th:only-of-type {\n        vertical-align: middle;\n    }\n\n    .dataframe tbody tr th {\n        vertical-align: top;\n    }\n\n    .dataframe thead th {\n        text-align: right;\n    }\n</style>\n<table border=\"1\" class=\"dataframe\">\n  <thead>\n    <tr style=\"text-align: right;\">\n      <th></th>\n      <th>appid</th>\n      <th>name</th>\n      <th>tags</th>\n    </tr>\n  </thead>\n  <tbody>\n    <tr>\n      <th>0</th>\n      <td>1257010</td>\n      <td>Passage to Malkuth</td>\n      <td>[]</td>\n    </tr>\n    <tr>\n      <th>1</th>\n      <td>1257190</td>\n      <td>VR Mini Bowling 2</td>\n      <td>{'Indie': 31, 'Casual': 31, 'Sports': 31, 'VR'...</td>\n    </tr>\n    <tr>\n      <th>2</th>\n      <td>1257210</td>\n      <td>Rabbit Simulator</td>\n      <td>{'Casual': 132, 'Simulation': 132, 'Indie': 13...</td>\n    </tr>\n    <tr>\n      <th>3</th>\n      <td>1257270</td>\n      <td>The Valley of Super Flowers</td>\n      <td>{'Action': 57, 'Indie': 56, 'Casual': 56, 'Vio...</td>\n    </tr>\n    <tr>\n      <th>4</th>\n      <td>1257280</td>\n      <td>Monuments Flipper</td>\n      <td>[]</td>\n    </tr>\n    <tr>\n      <th>...</th>\n      <td>...</td>\n      <td>...</td>\n      <td>...</td>\n    </tr>\n    <tr>\n      <th>39921</th>\n      <td>990720</td>\n      <td>Bookend</td>\n      <td>{'Indie': 22}</td>\n    </tr>\n    <tr>\n      <th>39922</th>\n      <td>990740</td>\n      <td>The Second Chance Strip Club</td>\n      <td>[]</td>\n    </tr>\n    <tr>\n      <th>39923</th>\n      <td>990750</td>\n      <td>RoboSnakes: Core Wars Legacy</td>\n      <td>{'Strategy': 31, 'Indie': 31, 'Early Access': ...</td>\n    </tr>\n    <tr>\n      <th>39924</th>\n      <td>990840</td>\n      <td>Running Tadpoles</td>\n      <td>[]</td>\n    </tr>\n    <tr>\n      <th>39925</th>\n      <td>990850</td>\n      <td>Yanpai Simulator</td>\n      <td>{'Simulation': 36, 'Adventure': 32, 'Action': ...</td>\n    </tr>\n  </tbody>\n</table>\n<p>39753 rows × 3 columns</p>\n</div>"
     },
     "metadata": {},
     "execution_count": 33
    }
   ],
   "source": [
    "app_tags"
   ]
  },
  {
   "cell_type": "code",
   "execution_count": 34,
   "metadata": {},
   "outputs": [],
   "source": [
    "app_tags = app_tags[app_tags['tags'].apply(lambda x: len(x)>0)]"
   ]
  },
  {
   "cell_type": "code",
   "execution_count": 35,
   "metadata": {},
   "outputs": [
    {
     "output_type": "execute_result",
     "data": {
      "text/plain": "{'1980s',\n \"1990's\",\n '2.5D',\n '2D',\n '2D Fighter',\n '2D Platformer',\n '360 Video',\n '3D',\n '3D Fighter',\n '3D Platformer',\n '3D Vision',\n '4 Player Local',\n '4X',\n '6DOF',\n 'ATV',\n 'Abstract',\n 'Action',\n 'Action RPG',\n 'Action Roguelike',\n 'Action-Adventure',\n 'Addictive',\n 'Adventure',\n 'Agriculture',\n 'Aliens',\n 'Alternate History',\n 'Ambient',\n 'America',\n 'Animation & Modeling',\n 'Anime',\n 'Arcade',\n 'Archery',\n 'Arena Shooter',\n 'Artificial Intelligence',\n 'Assassin',\n 'Asymmetric VR',\n 'Asynchronous Multiplayer',\n 'Atmospheric',\n 'Audio Production',\n 'Auto Battler',\n 'Automation',\n 'Automobile Sim',\n 'BMX',\n 'Base-Building',\n 'Baseball',\n 'Based On A Novel',\n 'Basketball',\n 'Batman',\n 'Battle Royale',\n \"Beat 'em up\",\n 'Beautiful',\n 'Benchmark',\n 'Bikes',\n 'Blood',\n 'Board Game',\n 'Bowling',\n 'Boxing',\n 'Building',\n 'Bullet Hell',\n 'Bullet Time',\n 'CRPG',\n 'Capitalism',\n 'Card Battler',\n 'Card Game',\n 'Cartoon',\n 'Cartoony',\n 'Casual',\n 'Cats',\n 'Character Action Game',\n 'Character Customization',\n 'Chess',\n 'Choices Matter',\n 'Choose Your Own Adventure',\n 'Cinematic',\n 'City Builder',\n 'Class-Based',\n 'Classic',\n 'Clicker',\n 'Co-op',\n 'Co-op Campaign',\n 'Cold War',\n 'Collectathon',\n 'Colony Sim',\n 'Colorful',\n 'Combat',\n 'Combat Racing',\n 'Comedy',\n 'Comic Book',\n 'Competitive',\n 'Conspiracy',\n 'Controller',\n 'Conversation',\n 'Crafting',\n 'Crime',\n 'Crowdfunded',\n 'Cult Classic',\n 'Cute',\n 'Cyberpunk',\n 'Cycling',\n 'Dark',\n 'Dark Comedy',\n 'Dark Fantasy',\n 'Dark Humor',\n 'Dating Sim',\n 'Deckbuilding',\n 'Demons',\n 'Design & Illustration',\n 'Destruction',\n 'Detective',\n 'Difficult',\n 'Dinosaurs',\n 'Diplomacy',\n 'Documentary',\n 'Dog',\n 'Dragons',\n 'Drama',\n 'Driving',\n 'Dungeon Crawler',\n 'Dungeons & Dragons',\n 'Dynamic Narration',\n 'Dystopian ',\n 'Early Access',\n 'Economy',\n 'Education',\n 'Electronic',\n 'Electronic Music',\n 'Emotional',\n 'Epic',\n 'Episodic',\n 'Experience',\n 'Experimental',\n 'Exploration',\n 'FMV',\n 'FPS',\n 'Faith',\n 'Family Friendly',\n 'Fantasy',\n 'Farming Sim',\n 'Fast-Paced',\n 'Feature Film',\n 'Female Protagonist',\n 'Fighting',\n 'First-Person',\n 'Fishing',\n 'Flight',\n 'Football',\n 'Foreign',\n 'Free to Play',\n 'Funny',\n 'Futuristic',\n 'Gambling',\n 'Game Development',\n 'GameMaker',\n 'Games Workshop',\n 'Gaming',\n 'God Game',\n 'Golf',\n 'Gore',\n 'Gothic',\n 'Grand Strategy',\n 'Great Soundtrack',\n 'Grid-Based Movement',\n 'Gun Customization',\n 'Hack and Slash',\n 'Hacking',\n 'Hand-drawn',\n 'Hardware',\n 'Heist',\n 'Hentai',\n 'Hero Shooter',\n 'Hex Grid',\n 'Hidden Object',\n 'Historical',\n 'Hockey',\n 'Horror',\n 'Horses',\n 'Hunting',\n 'Idler',\n 'Illuminati',\n 'Immersive Sim',\n 'Indie',\n 'Instrumental Music',\n 'Intentionally Awkward Controls',\n 'Interactive Fiction',\n 'Inventory Management',\n 'Investigation',\n 'Isometric',\n 'JRPG',\n 'Jet',\n 'Kickstarter',\n 'LEGO',\n 'LGBTQ+',\n 'Lara Croft',\n 'Lemmings',\n 'Level Editor',\n 'Life Sim',\n 'Linear',\n 'Local Co-Op',\n 'Local Multiplayer',\n 'Logic',\n 'Loot',\n 'Looter Shooter',\n 'Lore-Rich',\n 'Lovecraftian',\n 'MMORPG',\n 'MOBA',\n 'Magic',\n 'Management',\n 'Mars',\n 'Martial Arts',\n 'Massively Multiplayer',\n 'Masterpiece',\n 'Match 3',\n 'Mature',\n 'Mechs',\n 'Medical Sim',\n 'Medieval',\n 'Memes',\n 'Metroidvania',\n 'Military',\n 'Mini Golf',\n 'Minigames',\n 'Minimalist',\n 'Mining',\n 'Mod',\n 'Moddable',\n 'Modern',\n 'Motocross',\n 'Motorbike',\n 'Mouse only',\n 'Movie',\n 'Multiplayer',\n 'Multiple Endings',\n 'Music',\n 'Music-Based Procedural Generation',\n 'Mystery',\n 'Mystery Dungeon',\n 'Mythology',\n 'NSFW',\n 'Narration',\n 'Nature',\n 'Naval',\n 'Naval Combat',\n 'Ninja',\n 'Noir',\n 'Nonlinear',\n 'Nudity',\n 'Offroad',\n 'Old School',\n 'On-Rails Shooter',\n 'Online Co-Op',\n 'Open World',\n 'Open World Survival Craft',\n 'Otome',\n 'Outbreak Sim',\n 'Parkour',\n 'Parody ',\n 'Party-Based RPG',\n 'Perma Death',\n 'Philisophical',\n 'Philosophical',\n 'Photo Editing',\n 'Physics',\n 'Pinball',\n 'Pirates',\n 'Pixel Graphics',\n 'Platformer',\n 'Point & Click',\n 'Political',\n 'Political Sim',\n 'Politics',\n 'Pool',\n 'Post-apocalyptic',\n 'Precision Platformer',\n 'Procedural Generation',\n 'Programming',\n 'Psychedelic',\n 'Psychological',\n 'Psychological Horror',\n 'Puzzle',\n 'Puzzle-Platformer',\n 'PvE',\n 'PvP',\n 'Quick-Time Events',\n 'RPG',\n 'RPGMaker',\n 'RTS',\n 'Racing',\n 'Real Time Tactics',\n 'Real-Time',\n 'Real-Time with Pause',\n 'Realistic',\n 'Relaxing',\n 'Remake',\n 'Replay Value',\n 'Resource Management',\n 'Retro',\n 'Rhythm',\n 'Robots',\n 'Rogue-like',\n 'Rogue-lite',\n 'Roguevania',\n 'Romance',\n 'Rome',\n 'Runner',\n 'Sailing',\n 'Sandbox',\n 'Satire',\n 'Sci-fi',\n 'Science',\n 'Score Attack',\n 'Sequel',\n 'Sexual Content',\n \"Shoot 'Em Up\",\n 'Shooter',\n 'Short',\n 'Side Scroller',\n 'Silent Protagonist',\n 'Simulation',\n 'Singleplayer',\n 'Skateboarding',\n 'Skating',\n 'Skiing',\n 'Sniper',\n 'Snow',\n 'Snowboarding',\n 'Soccer',\n 'Social Deduction',\n 'Software',\n 'Software Training',\n 'Sokoban',\n 'Solitaire',\n 'Souls-like',\n 'Soundtrack',\n 'Space',\n 'Space Sim',\n 'Spectacle fighter',\n 'Spelling',\n 'Split Screen',\n 'Sports',\n 'Star Wars',\n 'Stealth',\n 'Steam Machine',\n 'Steampunk',\n 'Story Rich',\n 'Strategy',\n 'Strategy RPG',\n 'Stylized',\n 'Submarine',\n 'Superhero',\n 'Supernatural',\n 'Surreal',\n 'Survival',\n 'Survival Horror',\n 'Swordplay',\n 'Tabletop',\n 'Tactical',\n 'Tactical RPG',\n 'Tanks',\n 'Team-Based',\n 'Tennis',\n 'Text-Based',\n 'Third Person',\n 'Third-Person Shooter',\n 'Thriller',\n 'Time Attack',\n 'Time Management',\n 'Time Manipulation',\n 'Time Travel',\n 'Top-Down',\n 'Top-Down Shooter',\n 'Touch-Friendly',\n 'Tower Defense',\n 'TrackIR',\n 'Trading',\n 'Trading Card Game',\n 'Traditional Roguelike',\n 'Trains',\n 'Transhumanism',\n 'Transportation',\n 'Trivia',\n 'Turn-Based',\n 'Turn-Based Combat',\n 'Turn-Based Strategy',\n 'Turn-Based Tactics',\n 'Tutorial',\n 'Twin Stick Shooter',\n 'Typing',\n 'Underground',\n 'Underwater',\n 'Unforgiving',\n 'Utilities',\n 'VR',\n 'VR Only',\n 'Vampire',\n 'Vehicular Combat',\n 'Video Production',\n 'Villain Protagonist',\n 'Violent',\n 'Visual Novel',\n 'Voice Control',\n 'Voxel',\n 'Walking Simulator',\n 'War',\n 'Wargame',\n 'Warhammer 40K',\n 'Web Publishing',\n 'Werewolves',\n 'Western',\n 'Word Game',\n 'World War I',\n 'World War II',\n 'Wrestling',\n 'Zombies',\n 'e-sports'}"
     },
     "metadata": {},
     "execution_count": 35
    }
   ],
   "source": [
    "set([key for d in app_tags['tags'] for key in d])"
   ]
  },
  {
   "cell_type": "code",
   "execution_count": 36,
   "metadata": {},
   "outputs": [],
   "source": [
    "app_tags['tag_only'] = app_tags['tags'].apply(lambda x: [d.replace(' ','_').lower() for d in x])"
   ]
  },
  {
   "cell_type": "code",
   "execution_count": 200,
   "metadata": {},
   "outputs": [
    {
     "output_type": "execute_result",
     "data": {
      "text/plain": "       appid                             name  \\\n22800  22330  The Elder Scrolls IV: Oblivion    \n\n                                                    tags  \\\n22800  {'RPG': 1302, 'Open World': 1246, 'Fantasy': 8...   \n\n                                                tag_only  \\\n22800  [rpg, open_world, fantasy, singleplayer, modda...   \n\n                                                      td  \n22800  ([rpg, open_world, fantasy, singleplayer, modd...  ",
      "text/html": "<div>\n<style scoped>\n    .dataframe tbody tr th:only-of-type {\n        vertical-align: middle;\n    }\n\n    .dataframe tbody tr th {\n        vertical-align: top;\n    }\n\n    .dataframe thead th {\n        text-align: right;\n    }\n</style>\n<table border=\"1\" class=\"dataframe\">\n  <thead>\n    <tr style=\"text-align: right;\">\n      <th></th>\n      <th>appid</th>\n      <th>name</th>\n      <th>tags</th>\n      <th>tag_only</th>\n      <th>td</th>\n    </tr>\n  </thead>\n  <tbody>\n    <tr>\n      <th>22800</th>\n      <td>22330</td>\n      <td>The Elder Scrolls IV: Oblivion</td>\n      <td>{'RPG': 1302, 'Open World': 1246, 'Fantasy': 8...</td>\n      <td>[rpg, open_world, fantasy, singleplayer, modda...</td>\n      <td>([rpg, open_world, fantasy, singleplayer, modd...</td>\n    </tr>\n  </tbody>\n</table>\n</div>"
     },
     "metadata": {},
     "execution_count": 200
    }
   ],
   "source": [
    "app_tags[app_tags['appid']==22330]"
   ]
  },
  {
   "cell_type": "code",
   "execution_count": 2,
   "metadata": {},
   "outputs": [],
   "source": [
    "from gensim.models import word2vec\n",
    "from gensim.models import doc2vec\n",
    "from gensim.models.doc2vec import TaggedDocument"
   ]
  },
  {
   "cell_type": "code",
   "execution_count": 3,
   "metadata": {},
   "outputs": [
    {
     "output_type": "error",
     "ename": "NameError",
     "evalue": "name 'app_tags' is not defined",
     "traceback": [
      "\u001b[0;31m---------------------------------------------------------------------------\u001b[0m",
      "\u001b[0;31mNameError\u001b[0m                                 Traceback (most recent call last)",
      "\u001b[0;32m<ipython-input-3-ad3b657a3827>\u001b[0m in \u001b[0;36m<module>\u001b[0;34m\u001b[0m\n\u001b[0;32m----> 1\u001b[0;31m \u001b[0mtaglist\u001b[0m \u001b[0;34m=\u001b[0m \u001b[0mlist\u001b[0m\u001b[0;34m(\u001b[0m\u001b[0mapp_tags\u001b[0m\u001b[0;34m[\u001b[0m\u001b[0;34m'tag_only'\u001b[0m\u001b[0;34m]\u001b[0m\u001b[0;34m)\u001b[0m\u001b[0;34m\u001b[0m\u001b[0;34m\u001b[0m\u001b[0m\n\u001b[0m",
      "\u001b[0;31mNameError\u001b[0m: name 'app_tags' is not defined"
     ]
    }
   ],
   "source": [
    "taglist = list(app_tags['tag_only'])"
   ]
  },
  {
   "cell_type": "code",
   "execution_count": 40,
   "metadata": {},
   "outputs": [],
   "source": [
    "model = word2vec.Word2Vec(taglist, size=1000, window=5, min_count=1, workers=4)"
   ]
  },
  {
   "cell_type": "code",
   "execution_count": 41,
   "metadata": {},
   "outputs": [
    {
     "output_type": "execute_result",
     "data": {
      "text/plain": "[('mmorpg', 0.6196654438972473),\n ('traditional_roguelike', 0.5923815965652466),\n ('jrpg', 0.5906529426574707),\n ('dungeons_&_dragons', 0.5756229758262634),\n ('dragons', 0.5627028942108154),\n ('dungeon_crawler', 0.5462349653244019),\n ('deckbuilding', 0.542833685874939),\n ('rpgmaker', 0.5389683246612549),\n ('mystery_dungeon', 0.5361659526824951),\n ('card_battler', 0.5184588432312012)]"
     },
     "metadata": {},
     "execution_count": 41
    }
   ],
   "source": [
    "model.wv.most_similar('rpg')"
   ]
  },
  {
   "cell_type": "code",
   "execution_count": 129,
   "metadata": {},
   "outputs": [],
   "source": [
    "app_tags['td'] = app_tags.apply(lambda x: TaggedDocument(words=x['tag_only'], tags=[str(x.appid)]),axis=1)"
   ]
  },
  {
   "cell_type": "code",
   "execution_count": 130,
   "metadata": {},
   "outputs": [
    {
     "output_type": "execute_result",
     "data": {
      "text/plain": "         appid                          name  \\\n1      1257190             VR Mini Bowling 2   \n2      1257210              Rabbit Simulator   \n3      1257270   The Valley of Super Flowers   \n5      1257520               Zatorski, Ph.D.   \n6      1256520                  Bone Appetit   \n...        ...                           ...   \n39919   991510               Epic Food Fight   \n39920   991530                Choice or Fate   \n39921   990720                       Bookend   \n39923   990750  RoboSnakes: Core Wars Legacy   \n39925   990850              Yanpai Simulator   \n\n                                                    tags  \\\n1      {'Indie': 31, 'Casual': 31, 'Sports': 31, 'VR'...   \n2      {'Casual': 132, 'Simulation': 132, 'Indie': 13...   \n3      {'Action': 57, 'Indie': 56, 'Casual': 56, 'Vio...   \n5      {'Adventure': 107, 'RPG': 107, 'Indie': 107, '...   \n6      {'Action': 56, 'Metroidvania': 12, 'Pixel Grap...   \n...                                                  ...   \n39919          {'Casual': 43, 'Action': 42, 'Indie': 42}   \n39920  {'Adventure': 21, 'RPG': 21, 'Indie': 21, 'RPG...   \n39921                                      {'Indie': 22}   \n39923  {'Strategy': 31, 'Indie': 31, 'Early Access': ...   \n39925  {'Simulation': 36, 'Adventure': 32, 'Action': ...   \n\n                                                tag_only  \\\n1        [indie, casual, sports, vr, bowling, mini_golf]   \n2      [casual, simulation, indie, rpg, action, early...   \n3      [action, indie, casual, violent, gore, platfor...   \n5            [adventure, rpg, indie, casual, dating_sim]   \n6      [action, metroidvania, pixel_graphics, retro, ...   \n...                                                  ...   \n39919                            [casual, action, indie]   \n39920                  [adventure, rpg, indie, rpgmaker]   \n39921                                            [indie]   \n39923  [strategy, indie, early_access, programming, a...   \n39925  [simulation, adventure, action, indie, casual,...   \n\n                                                      td  \n1      ([indie, casual, sports, vr, bowling, mini_gol...  \n2      ([casual, simulation, indie, rpg, action, earl...  \n3      ([action, indie, casual, violent, gore, platfo...  \n5      ([adventure, rpg, indie, casual, dating_sim], ...  \n6      ([action, metroidvania, pixel_graphics, retro,...  \n...                                                  ...  \n39919                ([casual, action, indie], [991510])  \n39920      ([adventure, rpg, indie, rpgmaker], [991530])  \n39921                                ([indie], [990720])  \n39923  ([strategy, indie, early_access, programming, ...  \n39925  ([simulation, adventure, action, indie, casual...  \n\n[34071 rows x 5 columns]",
      "text/html": "<div>\n<style scoped>\n    .dataframe tbody tr th:only-of-type {\n        vertical-align: middle;\n    }\n\n    .dataframe tbody tr th {\n        vertical-align: top;\n    }\n\n    .dataframe thead th {\n        text-align: right;\n    }\n</style>\n<table border=\"1\" class=\"dataframe\">\n  <thead>\n    <tr style=\"text-align: right;\">\n      <th></th>\n      <th>appid</th>\n      <th>name</th>\n      <th>tags</th>\n      <th>tag_only</th>\n      <th>td</th>\n    </tr>\n  </thead>\n  <tbody>\n    <tr>\n      <th>1</th>\n      <td>1257190</td>\n      <td>VR Mini Bowling 2</td>\n      <td>{'Indie': 31, 'Casual': 31, 'Sports': 31, 'VR'...</td>\n      <td>[indie, casual, sports, vr, bowling, mini_golf]</td>\n      <td>([indie, casual, sports, vr, bowling, mini_gol...</td>\n    </tr>\n    <tr>\n      <th>2</th>\n      <td>1257210</td>\n      <td>Rabbit Simulator</td>\n      <td>{'Casual': 132, 'Simulation': 132, 'Indie': 13...</td>\n      <td>[casual, simulation, indie, rpg, action, early...</td>\n      <td>([casual, simulation, indie, rpg, action, earl...</td>\n    </tr>\n    <tr>\n      <th>3</th>\n      <td>1257270</td>\n      <td>The Valley of Super Flowers</td>\n      <td>{'Action': 57, 'Indie': 56, 'Casual': 56, 'Vio...</td>\n      <td>[action, indie, casual, violent, gore, platfor...</td>\n      <td>([action, indie, casual, violent, gore, platfo...</td>\n    </tr>\n    <tr>\n      <th>5</th>\n      <td>1257520</td>\n      <td>Zatorski, Ph.D.</td>\n      <td>{'Adventure': 107, 'RPG': 107, 'Indie': 107, '...</td>\n      <td>[adventure, rpg, indie, casual, dating_sim]</td>\n      <td>([adventure, rpg, indie, casual, dating_sim], ...</td>\n    </tr>\n    <tr>\n      <th>6</th>\n      <td>1256520</td>\n      <td>Bone Appetit</td>\n      <td>{'Action': 56, 'Metroidvania': 12, 'Pixel Grap...</td>\n      <td>[action, metroidvania, pixel_graphics, retro, ...</td>\n      <td>([action, metroidvania, pixel_graphics, retro,...</td>\n    </tr>\n    <tr>\n      <th>...</th>\n      <td>...</td>\n      <td>...</td>\n      <td>...</td>\n      <td>...</td>\n      <td>...</td>\n    </tr>\n    <tr>\n      <th>39919</th>\n      <td>991510</td>\n      <td>Epic Food Fight</td>\n      <td>{'Casual': 43, 'Action': 42, 'Indie': 42}</td>\n      <td>[casual, action, indie]</td>\n      <td>([casual, action, indie], [991510])</td>\n    </tr>\n    <tr>\n      <th>39920</th>\n      <td>991530</td>\n      <td>Choice or Fate</td>\n      <td>{'Adventure': 21, 'RPG': 21, 'Indie': 21, 'RPG...</td>\n      <td>[adventure, rpg, indie, rpgmaker]</td>\n      <td>([adventure, rpg, indie, rpgmaker], [991530])</td>\n    </tr>\n    <tr>\n      <th>39921</th>\n      <td>990720</td>\n      <td>Bookend</td>\n      <td>{'Indie': 22}</td>\n      <td>[indie]</td>\n      <td>([indie], [990720])</td>\n    </tr>\n    <tr>\n      <th>39923</th>\n      <td>990750</td>\n      <td>RoboSnakes: Core Wars Legacy</td>\n      <td>{'Strategy': 31, 'Indie': 31, 'Early Access': ...</td>\n      <td>[strategy, indie, early_access, programming, a...</td>\n      <td>([strategy, indie, early_access, programming, ...</td>\n    </tr>\n    <tr>\n      <th>39925</th>\n      <td>990850</td>\n      <td>Yanpai Simulator</td>\n      <td>{'Simulation': 36, 'Adventure': 32, 'Action': ...</td>\n      <td>[simulation, adventure, action, indie, casual,...</td>\n      <td>([simulation, adventure, action, indie, casual...</td>\n    </tr>\n  </tbody>\n</table>\n<p>34071 rows × 5 columns</p>\n</div>"
     },
     "metadata": {},
     "execution_count": 130
    }
   ],
   "source": [
    "app_tags"
   ]
  },
  {
   "cell_type": "code",
   "execution_count": 131,
   "metadata": {},
   "outputs": [],
   "source": [
    "\n",
    "tagged_documents = list(app_tags['td'])"
   ]
  },
  {
   "cell_type": "code",
   "execution_count": 132,
   "metadata": {},
   "outputs": [],
   "source": [
    "d2v = doc2vec.Doc2Vec(tagged_documents,window=5,min_count=1,workers=6)"
   ]
  },
  {
   "cell_type": "code",
   "execution_count": 16,
   "metadata": {},
   "outputs": [],
   "source": [
    "def get_appid(name):\n",
    "    return str(app_data[app_data['name']==name]['appid'].iloc[0])"
   ]
  },
  {
   "cell_type": "code",
   "execution_count": 8,
   "metadata": {},
   "outputs": [
    {
     "output_type": "error",
     "ename": "NameError",
     "evalue": "name 'app_data' is not defined",
     "traceback": [
      "\u001b[0;31m---------------------------------------------------------------------------\u001b[0m",
      "\u001b[0;31mNameError\u001b[0m                                 Traceback (most recent call last)",
      "\u001b[0;32m<ipython-input-8-58ace0fa0513>\u001b[0m in \u001b[0;36m<module>\u001b[0;34m\u001b[0m\n\u001b[0;32m----> 1\u001b[0;31m \u001b[0mget_appid\u001b[0m\u001b[0;34m(\u001b[0m\u001b[0;34m\"Cuphead\"\u001b[0m\u001b[0;34m)\u001b[0m\u001b[0;34m\u001b[0m\u001b[0;34m\u001b[0m\u001b[0m\n\u001b[0m",
      "\u001b[0;32m<ipython-input-7-6ef5f1a4e524>\u001b[0m in \u001b[0;36mget_appid\u001b[0;34m(name)\u001b[0m\n\u001b[1;32m      1\u001b[0m \u001b[0;32mdef\u001b[0m \u001b[0mget_appid\u001b[0m\u001b[0;34m(\u001b[0m\u001b[0mname\u001b[0m\u001b[0;34m)\u001b[0m\u001b[0;34m:\u001b[0m\u001b[0;34m\u001b[0m\u001b[0;34m\u001b[0m\u001b[0m\n\u001b[0;32m----> 2\u001b[0;31m     \u001b[0;32mreturn\u001b[0m \u001b[0mstr\u001b[0m\u001b[0;34m(\u001b[0m\u001b[0mapp_data\u001b[0m\u001b[0;34m[\u001b[0m\u001b[0mapp_data\u001b[0m\u001b[0;34m[\u001b[0m\u001b[0;34m'name'\u001b[0m\u001b[0;34m]\u001b[0m\u001b[0;34m==\u001b[0m\u001b[0mname\u001b[0m\u001b[0;34m]\u001b[0m\u001b[0;34m[\u001b[0m\u001b[0;34m'appid'\u001b[0m\u001b[0;34m]\u001b[0m\u001b[0;34m.\u001b[0m\u001b[0miloc\u001b[0m\u001b[0;34m[\u001b[0m\u001b[0;36m0\u001b[0m\u001b[0;34m]\u001b[0m\u001b[0;34m)\u001b[0m\u001b[0;34m\u001b[0m\u001b[0;34m\u001b[0m\u001b[0m\n\u001b[0m",
      "\u001b[0;31mNameError\u001b[0m: name 'app_data' is not defined"
     ]
    }
   ],
   "source": [
    "get_appid(\"Cuphead\")"
   ]
  },
  {
   "cell_type": "code",
   "execution_count": 255,
   "metadata": {},
   "outputs": [],
   "source": [
    "positives = []\n",
    "negatives = []\n",
    "positives.append(d2v.docvecs['32440'])\n",
    "positives.append(d2v.docvecs['249130'])\n",
    "# positives.append(d2v.docvecs['7940'])\n"
   ]
  },
  {
   "cell_type": "code",
   "execution_count": 256,
   "metadata": {},
   "outputs": [],
   "source": [
    "\n",
    "similarity = d2v.docvecs.most_similar(positive=positives, negative=negatives,topn=34071)\n",
    "similar_games = pd.DataFrame(similarity,columns=['appid','d2v_similarity'])\n",
    "similar_games['appid'] = similar_games['appid'].astype(int)\n",
    "\n",
    "similar_games = similar_games.merge(app_data[['appid','name','positive']], how='left',on='appid')"
   ]
  },
  {
   "cell_type": "code",
   "execution_count": 259,
   "metadata": {},
   "outputs": [
    {
     "output_type": "execute_result",
     "data": {
      "text/plain": "         appid  d2v_similarity\n0        32440        0.933729\n1       249130        0.916285\n2       404050        0.915549\n3        32450        0.915342\n4      1049820        0.907251\n...        ...             ...\n34065   384840       -0.865542\n34066   505330       -0.874605\n34067   882040       -0.880036\n34068  1094250       -0.881942\n34069   938260       -0.910108\n\n[34070 rows x 2 columns]",
      "text/html": "<div>\n<style scoped>\n    .dataframe tbody tr th:only-of-type {\n        vertical-align: middle;\n    }\n\n    .dataframe tbody tr th {\n        vertical-align: top;\n    }\n\n    .dataframe thead th {\n        text-align: right;\n    }\n</style>\n<table border=\"1\" class=\"dataframe\">\n  <thead>\n    <tr style=\"text-align: right;\">\n      <th></th>\n      <th>appid</th>\n      <th>d2v_similarity</th>\n    </tr>\n  </thead>\n  <tbody>\n    <tr>\n      <th>0</th>\n      <td>32440</td>\n      <td>0.933729</td>\n    </tr>\n    <tr>\n      <th>1</th>\n      <td>249130</td>\n      <td>0.916285</td>\n    </tr>\n    <tr>\n      <th>2</th>\n      <td>404050</td>\n      <td>0.915549</td>\n    </tr>\n    <tr>\n      <th>3</th>\n      <td>32450</td>\n      <td>0.915342</td>\n    </tr>\n    <tr>\n      <th>4</th>\n      <td>1049820</td>\n      <td>0.907251</td>\n    </tr>\n    <tr>\n      <th>...</th>\n      <td>...</td>\n      <td>...</td>\n    </tr>\n    <tr>\n      <th>34065</th>\n      <td>384840</td>\n      <td>-0.865542</td>\n    </tr>\n    <tr>\n      <th>34066</th>\n      <td>505330</td>\n      <td>-0.874605</td>\n    </tr>\n    <tr>\n      <th>34067</th>\n      <td>882040</td>\n      <td>-0.880036</td>\n    </tr>\n    <tr>\n      <th>34068</th>\n      <td>1094250</td>\n      <td>-0.881942</td>\n    </tr>\n    <tr>\n      <th>34069</th>\n      <td>938260</td>\n      <td>-0.910108</td>\n    </tr>\n  </tbody>\n</table>\n<p>34070 rows × 2 columns</p>\n</div>"
     },
     "metadata": {},
     "execution_count": 259
    }
   ],
   "source": [
    "similar_games"
   ]
  },
  {
   "cell_type": "code",
   "execution_count": 261,
   "metadata": {},
   "outputs": [],
   "source": [
    "similar_games['scaled_positives'] = similar_games['positive']+1\n",
    "similar_games['scaled_positives'] = similar_games['scaled_positives'].apply(math.log)"
   ]
  },
  {
   "cell_type": "code",
   "execution_count": 262,
   "metadata": {},
   "outputs": [
    {
     "output_type": "execute_result",
     "data": {
      "text/plain": "<matplotlib.axes._subplots.AxesSubplot at 0x1e45d7d92c8>"
     },
     "metadata": {},
     "execution_count": 262
    },
    {
     "output_type": "display_data",
     "data": {
      "text/plain": "<Figure size 432x288 with 1 Axes>",
      "image/svg+xml": "<?xml version=\"1.0\" encoding=\"utf-8\" standalone=\"no\"?>\r\n<!DOCTYPE svg PUBLIC \"-//W3C//DTD SVG 1.1//EN\"\r\n  \"http://www.w3.org/Graphics/SVG/1.1/DTD/svg11.dtd\">\r\n<!-- Created with matplotlib (https://matplotlib.org/) -->\r\n<svg height=\"248.518125pt\" version=\"1.1\" viewBox=\"0 0 401.690625 248.518125\" width=\"401.690625pt\" xmlns=\"http://www.w3.org/2000/svg\" xmlns:xlink=\"http://www.w3.org/1999/xlink\">\r\n <defs>\r\n  <style type=\"text/css\">\r\n*{stroke-linecap:butt;stroke-linejoin:round;}\r\n  </style>\r\n </defs>\r\n <g id=\"figure_1\">\r\n  <g id=\"patch_1\">\r\n   <path d=\"M 0 248.518125 \r\nL 401.690625 248.518125 \r\nL 401.690625 0 \r\nL 0 0 \r\nz\r\n\" style=\"fill:none;\"/>\r\n  </g>\r\n  <g id=\"axes_1\">\r\n   <g id=\"patch_2\">\r\n    <path d=\"M 59.690625 224.64 \r\nL 394.490625 224.64 \r\nL 394.490625 7.2 \r\nL 59.690625 7.2 \r\nz\r\n\" style=\"fill:#ffffff;\"/>\r\n   </g>\r\n   <g id=\"patch_3\">\r\n    <path clip-path=\"url(#pcd31421880)\" d=\"M 74.908807 224.64 \r\nL 105.34517 224.64 \r\nL 105.34517 102.387076 \r\nL 74.908807 102.387076 \r\nz\r\n\" style=\"fill:#1f77b4;\"/>\r\n   </g>\r\n   <g id=\"patch_4\">\r\n    <path clip-path=\"url(#pcd31421880)\" d=\"M 105.34517 224.64 \r\nL 135.781534 224.64 \r\nL 135.781534 17.554286 \r\nL 105.34517 17.554286 \r\nz\r\n\" style=\"fill:#1f77b4;\"/>\r\n   </g>\r\n   <g id=\"patch_5\">\r\n    <path clip-path=\"url(#pcd31421880)\" d=\"M 135.781534 224.64 \r\nL 166.217898 224.64 \r\nL 166.217898 49.376948 \r\nL 135.781534 49.376948 \r\nz\r\n\" style=\"fill:#1f77b4;\"/>\r\n   </g>\r\n   <g id=\"patch_6\">\r\n    <path clip-path=\"url(#pcd31421880)\" d=\"M 166.217898 224.64 \r\nL 196.654261 224.64 \r\nL 196.654261 120.298985 \r\nL 166.217898 120.298985 \r\nz\r\n\" style=\"fill:#1f77b4;\"/>\r\n   </g>\r\n   <g id=\"patch_7\">\r\n    <path clip-path=\"url(#pcd31421880)\" d=\"M 196.654261 224.64 \r\nL 227.090625 224.64 \r\nL 227.090625 168.872599 \r\nL 196.654261 168.872599 \r\nz\r\n\" style=\"fill:#1f77b4;\"/>\r\n   </g>\r\n   <g id=\"patch_8\">\r\n    <path clip-path=\"url(#pcd31421880)\" d=\"M 227.090625 224.64 \r\nL 257.526989 224.64 \r\nL 257.526989 197.502629 \r\nL 227.090625 197.502629 \r\nz\r\n\" style=\"fill:#1f77b4;\"/>\r\n   </g>\r\n   <g id=\"patch_9\">\r\n    <path clip-path=\"url(#pcd31421880)\" d=\"M 257.526989 224.64 \r\nL 287.963352 224.64 \r\nL 287.963352 213.631639 \r\nL 257.526989 213.631639 \r\nz\r\n\" style=\"fill:#1f77b4;\"/>\r\n   </g>\r\n   <g id=\"patch_10\">\r\n    <path clip-path=\"url(#pcd31421880)\" d=\"M 287.963352 224.64 \r\nL 318.399716 224.64 \r\nL 318.399716 221.758339 \r\nL 287.963352 221.758339 \r\nz\r\n\" style=\"fill:#1f77b4;\"/>\r\n   </g>\r\n   <g id=\"patch_11\">\r\n    <path clip-path=\"url(#pcd31421880)\" d=\"M 318.399716 224.64 \r\nL 348.83608 224.64 \r\nL 348.83608 224.080253 \r\nL 318.399716 224.080253 \r\nz\r\n\" style=\"fill:#1f77b4;\"/>\r\n   </g>\r\n   <g id=\"patch_12\">\r\n    <path clip-path=\"url(#pcd31421880)\" d=\"M 348.83608 224.64 \r\nL 379.272443 224.64 \r\nL 379.272443 224.598537 \r\nL 348.83608 224.598537 \r\nz\r\n\" style=\"fill:#1f77b4;\"/>\r\n   </g>\r\n   <g id=\"matplotlib.axis_1\">\r\n    <g id=\"xtick_1\">\r\n     <g id=\"line2d_1\">\r\n      <defs>\r\n       <path d=\"M 0 0 \r\nL 0 3.5 \r\n\" id=\"m033894dfd8\" style=\"stroke:#000000;stroke-width:0.8;\"/>\r\n      </defs>\r\n      <g>\r\n       <use style=\"stroke:#000000;stroke-width:0.8;\" x=\"74.908807\" xlink:href=\"#m033894dfd8\" y=\"224.64\"/>\r\n      </g>\r\n     </g>\r\n     <g id=\"text_1\">\r\n      <!-- 0 -->\r\n      <defs>\r\n       <path d=\"M 31.78125 66.40625 \r\nQ 24.171875 66.40625 20.328125 58.90625 \r\nQ 16.5 51.421875 16.5 36.375 \r\nQ 16.5 21.390625 20.328125 13.890625 \r\nQ 24.171875 6.390625 31.78125 6.390625 \r\nQ 39.453125 6.390625 43.28125 13.890625 \r\nQ 47.125 21.390625 47.125 36.375 \r\nQ 47.125 51.421875 43.28125 58.90625 \r\nQ 39.453125 66.40625 31.78125 66.40625 \r\nz\r\nM 31.78125 74.21875 \r\nQ 44.046875 74.21875 50.515625 64.515625 \r\nQ 56.984375 54.828125 56.984375 36.375 \r\nQ 56.984375 17.96875 50.515625 8.265625 \r\nQ 44.046875 -1.421875 31.78125 -1.421875 \r\nQ 19.53125 -1.421875 13.0625 8.265625 \r\nQ 6.59375 17.96875 6.59375 36.375 \r\nQ 6.59375 54.828125 13.0625 64.515625 \r\nQ 19.53125 74.21875 31.78125 74.21875 \r\nz\r\n\" id=\"DejaVuSans-48\"/>\r\n      </defs>\r\n      <g transform=\"translate(71.727557 239.238437)scale(0.1 -0.1)\">\r\n       <use xlink:href=\"#DejaVuSans-48\"/>\r\n      </g>\r\n     </g>\r\n    </g>\r\n    <g id=\"xtick_2\">\r\n     <g id=\"line2d_2\">\r\n      <g>\r\n       <use style=\"stroke:#000000;stroke-width:0.8;\" x=\"115.087238\" xlink:href=\"#m033894dfd8\" y=\"224.64\"/>\r\n      </g>\r\n     </g>\r\n     <g id=\"text_2\">\r\n      <!-- 2 -->\r\n      <defs>\r\n       <path d=\"M 19.1875 8.296875 \r\nL 53.609375 8.296875 \r\nL 53.609375 0 \r\nL 7.328125 0 \r\nL 7.328125 8.296875 \r\nQ 12.9375 14.109375 22.625 23.890625 \r\nQ 32.328125 33.6875 34.8125 36.53125 \r\nQ 39.546875 41.84375 41.421875 45.53125 \r\nQ 43.3125 49.21875 43.3125 52.78125 \r\nQ 43.3125 58.59375 39.234375 62.25 \r\nQ 35.15625 65.921875 28.609375 65.921875 \r\nQ 23.96875 65.921875 18.8125 64.3125 \r\nQ 13.671875 62.703125 7.8125 59.421875 \r\nL 7.8125 69.390625 \r\nQ 13.765625 71.78125 18.9375 73 \r\nQ 24.125 74.21875 28.421875 74.21875 \r\nQ 39.75 74.21875 46.484375 68.546875 \r\nQ 53.21875 62.890625 53.21875 53.421875 \r\nQ 53.21875 48.921875 51.53125 44.890625 \r\nQ 49.859375 40.875 45.40625 35.40625 \r\nQ 44.1875 33.984375 37.640625 27.21875 \r\nQ 31.109375 20.453125 19.1875 8.296875 \r\nz\r\n\" id=\"DejaVuSans-50\"/>\r\n      </defs>\r\n      <g transform=\"translate(111.905988 239.238437)scale(0.1 -0.1)\">\r\n       <use xlink:href=\"#DejaVuSans-50\"/>\r\n      </g>\r\n     </g>\r\n    </g>\r\n    <g id=\"xtick_3\">\r\n     <g id=\"line2d_3\">\r\n      <g>\r\n       <use style=\"stroke:#000000;stroke-width:0.8;\" x=\"155.26567\" xlink:href=\"#m033894dfd8\" y=\"224.64\"/>\r\n      </g>\r\n     </g>\r\n     <g id=\"text_3\">\r\n      <!-- 4 -->\r\n      <defs>\r\n       <path d=\"M 37.796875 64.3125 \r\nL 12.890625 25.390625 \r\nL 37.796875 25.390625 \r\nz\r\nM 35.203125 72.90625 \r\nL 47.609375 72.90625 \r\nL 47.609375 25.390625 \r\nL 58.015625 25.390625 \r\nL 58.015625 17.1875 \r\nL 47.609375 17.1875 \r\nL 47.609375 0 \r\nL 37.796875 0 \r\nL 37.796875 17.1875 \r\nL 4.890625 17.1875 \r\nL 4.890625 26.703125 \r\nz\r\n\" id=\"DejaVuSans-52\"/>\r\n      </defs>\r\n      <g transform=\"translate(152.08442 239.238437)scale(0.1 -0.1)\">\r\n       <use xlink:href=\"#DejaVuSans-52\"/>\r\n      </g>\r\n     </g>\r\n    </g>\r\n    <g id=\"xtick_4\">\r\n     <g id=\"line2d_4\">\r\n      <g>\r\n       <use style=\"stroke:#000000;stroke-width:0.8;\" x=\"195.444101\" xlink:href=\"#m033894dfd8\" y=\"224.64\"/>\r\n      </g>\r\n     </g>\r\n     <g id=\"text_4\">\r\n      <!-- 6 -->\r\n      <defs>\r\n       <path d=\"M 33.015625 40.375 \r\nQ 26.375 40.375 22.484375 35.828125 \r\nQ 18.609375 31.296875 18.609375 23.390625 \r\nQ 18.609375 15.53125 22.484375 10.953125 \r\nQ 26.375 6.390625 33.015625 6.390625 \r\nQ 39.65625 6.390625 43.53125 10.953125 \r\nQ 47.40625 15.53125 47.40625 23.390625 \r\nQ 47.40625 31.296875 43.53125 35.828125 \r\nQ 39.65625 40.375 33.015625 40.375 \r\nz\r\nM 52.59375 71.296875 \r\nL 52.59375 62.3125 \r\nQ 48.875 64.0625 45.09375 64.984375 \r\nQ 41.3125 65.921875 37.59375 65.921875 \r\nQ 27.828125 65.921875 22.671875 59.328125 \r\nQ 17.53125 52.734375 16.796875 39.40625 \r\nQ 19.671875 43.65625 24.015625 45.921875 \r\nQ 28.375 48.1875 33.59375 48.1875 \r\nQ 44.578125 48.1875 50.953125 41.515625 \r\nQ 57.328125 34.859375 57.328125 23.390625 \r\nQ 57.328125 12.15625 50.6875 5.359375 \r\nQ 44.046875 -1.421875 33.015625 -1.421875 \r\nQ 20.359375 -1.421875 13.671875 8.265625 \r\nQ 6.984375 17.96875 6.984375 36.375 \r\nQ 6.984375 53.65625 15.1875 63.9375 \r\nQ 23.390625 74.21875 37.203125 74.21875 \r\nQ 40.921875 74.21875 44.703125 73.484375 \r\nQ 48.484375 72.75 52.59375 71.296875 \r\nz\r\n\" id=\"DejaVuSans-54\"/>\r\n      </defs>\r\n      <g transform=\"translate(192.262851 239.238437)scale(0.1 -0.1)\">\r\n       <use xlink:href=\"#DejaVuSans-54\"/>\r\n      </g>\r\n     </g>\r\n    </g>\r\n    <g id=\"xtick_5\">\r\n     <g id=\"line2d_5\">\r\n      <g>\r\n       <use style=\"stroke:#000000;stroke-width:0.8;\" x=\"235.622533\" xlink:href=\"#m033894dfd8\" y=\"224.64\"/>\r\n      </g>\r\n     </g>\r\n     <g id=\"text_5\">\r\n      <!-- 8 -->\r\n      <defs>\r\n       <path d=\"M 31.78125 34.625 \r\nQ 24.75 34.625 20.71875 30.859375 \r\nQ 16.703125 27.09375 16.703125 20.515625 \r\nQ 16.703125 13.921875 20.71875 10.15625 \r\nQ 24.75 6.390625 31.78125 6.390625 \r\nQ 38.8125 6.390625 42.859375 10.171875 \r\nQ 46.921875 13.96875 46.921875 20.515625 \r\nQ 46.921875 27.09375 42.890625 30.859375 \r\nQ 38.875 34.625 31.78125 34.625 \r\nz\r\nM 21.921875 38.8125 \r\nQ 15.578125 40.375 12.03125 44.71875 \r\nQ 8.5 49.078125 8.5 55.328125 \r\nQ 8.5 64.0625 14.71875 69.140625 \r\nQ 20.953125 74.21875 31.78125 74.21875 \r\nQ 42.671875 74.21875 48.875 69.140625 \r\nQ 55.078125 64.0625 55.078125 55.328125 \r\nQ 55.078125 49.078125 51.53125 44.71875 \r\nQ 48 40.375 41.703125 38.8125 \r\nQ 48.828125 37.15625 52.796875 32.3125 \r\nQ 56.78125 27.484375 56.78125 20.515625 \r\nQ 56.78125 9.90625 50.3125 4.234375 \r\nQ 43.84375 -1.421875 31.78125 -1.421875 \r\nQ 19.734375 -1.421875 13.25 4.234375 \r\nQ 6.78125 9.90625 6.78125 20.515625 \r\nQ 6.78125 27.484375 10.78125 32.3125 \r\nQ 14.796875 37.15625 21.921875 38.8125 \r\nz\r\nM 18.3125 54.390625 \r\nQ 18.3125 48.734375 21.84375 45.5625 \r\nQ 25.390625 42.390625 31.78125 42.390625 \r\nQ 38.140625 42.390625 41.71875 45.5625 \r\nQ 45.3125 48.734375 45.3125 54.390625 \r\nQ 45.3125 60.0625 41.71875 63.234375 \r\nQ 38.140625 66.40625 31.78125 66.40625 \r\nQ 25.390625 66.40625 21.84375 63.234375 \r\nQ 18.3125 60.0625 18.3125 54.390625 \r\nz\r\n\" id=\"DejaVuSans-56\"/>\r\n      </defs>\r\n      <g transform=\"translate(232.441283 239.238437)scale(0.1 -0.1)\">\r\n       <use xlink:href=\"#DejaVuSans-56\"/>\r\n      </g>\r\n     </g>\r\n    </g>\r\n    <g id=\"xtick_6\">\r\n     <g id=\"line2d_6\">\r\n      <g>\r\n       <use style=\"stroke:#000000;stroke-width:0.8;\" x=\"275.800965\" xlink:href=\"#m033894dfd8\" y=\"224.64\"/>\r\n      </g>\r\n     </g>\r\n     <g id=\"text_6\">\r\n      <!-- 10 -->\r\n      <defs>\r\n       <path d=\"M 12.40625 8.296875 \r\nL 28.515625 8.296875 \r\nL 28.515625 63.921875 \r\nL 10.984375 60.40625 \r\nL 10.984375 69.390625 \r\nL 28.421875 72.90625 \r\nL 38.28125 72.90625 \r\nL 38.28125 8.296875 \r\nL 54.390625 8.296875 \r\nL 54.390625 0 \r\nL 12.40625 0 \r\nz\r\n\" id=\"DejaVuSans-49\"/>\r\n      </defs>\r\n      <g transform=\"translate(269.438465 239.238437)scale(0.1 -0.1)\">\r\n       <use xlink:href=\"#DejaVuSans-49\"/>\r\n       <use x=\"63.623047\" xlink:href=\"#DejaVuSans-48\"/>\r\n      </g>\r\n     </g>\r\n    </g>\r\n    <g id=\"xtick_7\">\r\n     <g id=\"line2d_7\">\r\n      <g>\r\n       <use style=\"stroke:#000000;stroke-width:0.8;\" x=\"315.979396\" xlink:href=\"#m033894dfd8\" y=\"224.64\"/>\r\n      </g>\r\n     </g>\r\n     <g id=\"text_7\">\r\n      <!-- 12 -->\r\n      <g transform=\"translate(309.616896 239.238437)scale(0.1 -0.1)\">\r\n       <use xlink:href=\"#DejaVuSans-49\"/>\r\n       <use x=\"63.623047\" xlink:href=\"#DejaVuSans-50\"/>\r\n      </g>\r\n     </g>\r\n    </g>\r\n    <g id=\"xtick_8\">\r\n     <g id=\"line2d_8\">\r\n      <g>\r\n       <use style=\"stroke:#000000;stroke-width:0.8;\" x=\"356.157828\" xlink:href=\"#m033894dfd8\" y=\"224.64\"/>\r\n      </g>\r\n     </g>\r\n     <g id=\"text_8\">\r\n      <!-- 14 -->\r\n      <g transform=\"translate(349.795328 239.238437)scale(0.1 -0.1)\">\r\n       <use xlink:href=\"#DejaVuSans-49\"/>\r\n       <use x=\"63.623047\" xlink:href=\"#DejaVuSans-52\"/>\r\n      </g>\r\n     </g>\r\n    </g>\r\n   </g>\r\n   <g id=\"matplotlib.axis_2\">\r\n    <g id=\"ytick_1\">\r\n     <g id=\"line2d_9\">\r\n      <defs>\r\n       <path d=\"M 0 0 \r\nL -3.5 0 \r\n\" id=\"mb7dfd4e210\" style=\"stroke:#000000;stroke-width:0.8;\"/>\r\n      </defs>\r\n      <g>\r\n       <use style=\"stroke:#000000;stroke-width:0.8;\" x=\"59.690625\" xlink:href=\"#mb7dfd4e210\" y=\"224.64\"/>\r\n      </g>\r\n     </g>\r\n     <g id=\"text_9\">\r\n      <!-- 0 -->\r\n      <g transform=\"translate(46.328125 228.439219)scale(0.1 -0.1)\">\r\n       <use xlink:href=\"#DejaVuSans-48\"/>\r\n      </g>\r\n     </g>\r\n    </g>\r\n    <g id=\"ytick_2\">\r\n     <g id=\"line2d_10\">\r\n      <g>\r\n       <use style=\"stroke:#000000;stroke-width:0.8;\" x=\"59.690625\" xlink:href=\"#mb7dfd4e210\" y=\"183.177248\"/>\r\n      </g>\r\n     </g>\r\n     <g id=\"text_10\">\r\n      <!-- 2000 -->\r\n      <g transform=\"translate(27.240625 186.976467)scale(0.1 -0.1)\">\r\n       <use xlink:href=\"#DejaVuSans-50\"/>\r\n       <use x=\"63.623047\" xlink:href=\"#DejaVuSans-48\"/>\r\n       <use x=\"127.246094\" xlink:href=\"#DejaVuSans-48\"/>\r\n       <use x=\"190.869141\" xlink:href=\"#DejaVuSans-48\"/>\r\n      </g>\r\n     </g>\r\n    </g>\r\n    <g id=\"ytick_3\">\r\n     <g id=\"line2d_11\">\r\n      <g>\r\n       <use style=\"stroke:#000000;stroke-width:0.8;\" x=\"59.690625\" xlink:href=\"#mb7dfd4e210\" y=\"141.714496\"/>\r\n      </g>\r\n     </g>\r\n     <g id=\"text_11\">\r\n      <!-- 4000 -->\r\n      <g transform=\"translate(27.240625 145.513715)scale(0.1 -0.1)\">\r\n       <use xlink:href=\"#DejaVuSans-52\"/>\r\n       <use x=\"63.623047\" xlink:href=\"#DejaVuSans-48\"/>\r\n       <use x=\"127.246094\" xlink:href=\"#DejaVuSans-48\"/>\r\n       <use x=\"190.869141\" xlink:href=\"#DejaVuSans-48\"/>\r\n      </g>\r\n     </g>\r\n    </g>\r\n    <g id=\"ytick_4\">\r\n     <g id=\"line2d_12\">\r\n      <g>\r\n       <use style=\"stroke:#000000;stroke-width:0.8;\" x=\"59.690625\" xlink:href=\"#mb7dfd4e210\" y=\"100.251744\"/>\r\n      </g>\r\n     </g>\r\n     <g id=\"text_12\">\r\n      <!-- 6000 -->\r\n      <g transform=\"translate(27.240625 104.050963)scale(0.1 -0.1)\">\r\n       <use xlink:href=\"#DejaVuSans-54\"/>\r\n       <use x=\"63.623047\" xlink:href=\"#DejaVuSans-48\"/>\r\n       <use x=\"127.246094\" xlink:href=\"#DejaVuSans-48\"/>\r\n       <use x=\"190.869141\" xlink:href=\"#DejaVuSans-48\"/>\r\n      </g>\r\n     </g>\r\n    </g>\r\n    <g id=\"ytick_5\">\r\n     <g id=\"line2d_13\">\r\n      <g>\r\n       <use style=\"stroke:#000000;stroke-width:0.8;\" x=\"59.690625\" xlink:href=\"#mb7dfd4e210\" y=\"58.788992\"/>\r\n      </g>\r\n     </g>\r\n     <g id=\"text_13\">\r\n      <!-- 8000 -->\r\n      <g transform=\"translate(27.240625 62.588211)scale(0.1 -0.1)\">\r\n       <use xlink:href=\"#DejaVuSans-56\"/>\r\n       <use x=\"63.623047\" xlink:href=\"#DejaVuSans-48\"/>\r\n       <use x=\"127.246094\" xlink:href=\"#DejaVuSans-48\"/>\r\n       <use x=\"190.869141\" xlink:href=\"#DejaVuSans-48\"/>\r\n      </g>\r\n     </g>\r\n    </g>\r\n    <g id=\"ytick_6\">\r\n     <g id=\"line2d_14\">\r\n      <g>\r\n       <use style=\"stroke:#000000;stroke-width:0.8;\" x=\"59.690625\" xlink:href=\"#mb7dfd4e210\" y=\"17.326241\"/>\r\n      </g>\r\n     </g>\r\n     <g id=\"text_14\">\r\n      <!-- 10000 -->\r\n      <g transform=\"translate(20.878125 21.125459)scale(0.1 -0.1)\">\r\n       <use xlink:href=\"#DejaVuSans-49\"/>\r\n       <use x=\"63.623047\" xlink:href=\"#DejaVuSans-48\"/>\r\n       <use x=\"127.246094\" xlink:href=\"#DejaVuSans-48\"/>\r\n       <use x=\"190.869141\" xlink:href=\"#DejaVuSans-48\"/>\r\n       <use x=\"254.492188\" xlink:href=\"#DejaVuSans-48\"/>\r\n      </g>\r\n     </g>\r\n    </g>\r\n    <g id=\"text_15\">\r\n     <!-- Frequency -->\r\n     <defs>\r\n      <path d=\"M 9.8125 72.90625 \r\nL 51.703125 72.90625 \r\nL 51.703125 64.59375 \r\nL 19.671875 64.59375 \r\nL 19.671875 43.109375 \r\nL 48.578125 43.109375 \r\nL 48.578125 34.8125 \r\nL 19.671875 34.8125 \r\nL 19.671875 0 \r\nL 9.8125 0 \r\nz\r\n\" id=\"DejaVuSans-70\"/>\r\n      <path d=\"M 41.109375 46.296875 \r\nQ 39.59375 47.171875 37.8125 47.578125 \r\nQ 36.03125 48 33.890625 48 \r\nQ 26.265625 48 22.1875 43.046875 \r\nQ 18.109375 38.09375 18.109375 28.8125 \r\nL 18.109375 0 \r\nL 9.078125 0 \r\nL 9.078125 54.6875 \r\nL 18.109375 54.6875 \r\nL 18.109375 46.1875 \r\nQ 20.953125 51.171875 25.484375 53.578125 \r\nQ 30.03125 56 36.53125 56 \r\nQ 37.453125 56 38.578125 55.875 \r\nQ 39.703125 55.765625 41.0625 55.515625 \r\nz\r\n\" id=\"DejaVuSans-114\"/>\r\n      <path d=\"M 56.203125 29.59375 \r\nL 56.203125 25.203125 \r\nL 14.890625 25.203125 \r\nQ 15.484375 15.921875 20.484375 11.0625 \r\nQ 25.484375 6.203125 34.421875 6.203125 \r\nQ 39.59375 6.203125 44.453125 7.46875 \r\nQ 49.3125 8.734375 54.109375 11.28125 \r\nL 54.109375 2.78125 \r\nQ 49.265625 0.734375 44.1875 -0.34375 \r\nQ 39.109375 -1.421875 33.890625 -1.421875 \r\nQ 20.796875 -1.421875 13.15625 6.1875 \r\nQ 5.515625 13.8125 5.515625 26.8125 \r\nQ 5.515625 40.234375 12.765625 48.109375 \r\nQ 20.015625 56 32.328125 56 \r\nQ 43.359375 56 49.78125 48.890625 \r\nQ 56.203125 41.796875 56.203125 29.59375 \r\nz\r\nM 47.21875 32.234375 \r\nQ 47.125 39.59375 43.09375 43.984375 \r\nQ 39.0625 48.390625 32.421875 48.390625 \r\nQ 24.90625 48.390625 20.390625 44.140625 \r\nQ 15.875 39.890625 15.1875 32.171875 \r\nz\r\n\" id=\"DejaVuSans-101\"/>\r\n      <path d=\"M 14.796875 27.296875 \r\nQ 14.796875 17.390625 18.875 11.75 \r\nQ 22.953125 6.109375 30.078125 6.109375 \r\nQ 37.203125 6.109375 41.296875 11.75 \r\nQ 45.40625 17.390625 45.40625 27.296875 \r\nQ 45.40625 37.203125 41.296875 42.84375 \r\nQ 37.203125 48.484375 30.078125 48.484375 \r\nQ 22.953125 48.484375 18.875 42.84375 \r\nQ 14.796875 37.203125 14.796875 27.296875 \r\nz\r\nM 45.40625 8.203125 \r\nQ 42.578125 3.328125 38.25 0.953125 \r\nQ 33.9375 -1.421875 27.875 -1.421875 \r\nQ 17.96875 -1.421875 11.734375 6.484375 \r\nQ 5.515625 14.40625 5.515625 27.296875 \r\nQ 5.515625 40.1875 11.734375 48.09375 \r\nQ 17.96875 56 27.875 56 \r\nQ 33.9375 56 38.25 53.625 \r\nQ 42.578125 51.265625 45.40625 46.390625 \r\nL 45.40625 54.6875 \r\nL 54.390625 54.6875 \r\nL 54.390625 -20.796875 \r\nL 45.40625 -20.796875 \r\nz\r\n\" id=\"DejaVuSans-113\"/>\r\n      <path d=\"M 8.5 21.578125 \r\nL 8.5 54.6875 \r\nL 17.484375 54.6875 \r\nL 17.484375 21.921875 \r\nQ 17.484375 14.15625 20.5 10.265625 \r\nQ 23.53125 6.390625 29.59375 6.390625 \r\nQ 36.859375 6.390625 41.078125 11.03125 \r\nQ 45.3125 15.671875 45.3125 23.6875 \r\nL 45.3125 54.6875 \r\nL 54.296875 54.6875 \r\nL 54.296875 0 \r\nL 45.3125 0 \r\nL 45.3125 8.40625 \r\nQ 42.046875 3.421875 37.71875 1 \r\nQ 33.40625 -1.421875 27.6875 -1.421875 \r\nQ 18.265625 -1.421875 13.375 4.4375 \r\nQ 8.5 10.296875 8.5 21.578125 \r\nz\r\nM 31.109375 56 \r\nz\r\n\" id=\"DejaVuSans-117\"/>\r\n      <path d=\"M 54.890625 33.015625 \r\nL 54.890625 0 \r\nL 45.90625 0 \r\nL 45.90625 32.71875 \r\nQ 45.90625 40.484375 42.875 44.328125 \r\nQ 39.84375 48.1875 33.796875 48.1875 \r\nQ 26.515625 48.1875 22.3125 43.546875 \r\nQ 18.109375 38.921875 18.109375 30.90625 \r\nL 18.109375 0 \r\nL 9.078125 0 \r\nL 9.078125 54.6875 \r\nL 18.109375 54.6875 \r\nL 18.109375 46.1875 \r\nQ 21.34375 51.125 25.703125 53.5625 \r\nQ 30.078125 56 35.796875 56 \r\nQ 45.21875 56 50.046875 50.171875 \r\nQ 54.890625 44.34375 54.890625 33.015625 \r\nz\r\n\" id=\"DejaVuSans-110\"/>\r\n      <path d=\"M 48.78125 52.59375 \r\nL 48.78125 44.1875 \r\nQ 44.96875 46.296875 41.140625 47.34375 \r\nQ 37.3125 48.390625 33.40625 48.390625 \r\nQ 24.65625 48.390625 19.8125 42.84375 \r\nQ 14.984375 37.3125 14.984375 27.296875 \r\nQ 14.984375 17.28125 19.8125 11.734375 \r\nQ 24.65625 6.203125 33.40625 6.203125 \r\nQ 37.3125 6.203125 41.140625 7.25 \r\nQ 44.96875 8.296875 48.78125 10.40625 \r\nL 48.78125 2.09375 \r\nQ 45.015625 0.34375 40.984375 -0.53125 \r\nQ 36.96875 -1.421875 32.421875 -1.421875 \r\nQ 20.0625 -1.421875 12.78125 6.34375 \r\nQ 5.515625 14.109375 5.515625 27.296875 \r\nQ 5.515625 40.671875 12.859375 48.328125 \r\nQ 20.21875 56 33.015625 56 \r\nQ 37.15625 56 41.109375 55.140625 \r\nQ 45.0625 54.296875 48.78125 52.59375 \r\nz\r\n\" id=\"DejaVuSans-99\"/>\r\n      <path d=\"M 32.171875 -5.078125 \r\nQ 28.375 -14.84375 24.75 -17.8125 \r\nQ 21.140625 -20.796875 15.09375 -20.796875 \r\nL 7.90625 -20.796875 \r\nL 7.90625 -13.28125 \r\nL 13.1875 -13.28125 \r\nQ 16.890625 -13.28125 18.9375 -11.515625 \r\nQ 21 -9.765625 23.484375 -3.21875 \r\nL 25.09375 0.875 \r\nL 2.984375 54.6875 \r\nL 12.5 54.6875 \r\nL 29.59375 11.921875 \r\nL 46.6875 54.6875 \r\nL 56.203125 54.6875 \r\nz\r\n\" id=\"DejaVuSans-121\"/>\r\n     </defs>\r\n     <g transform=\"translate(14.798438 142.217656)rotate(-90)scale(0.1 -0.1)\">\r\n      <use xlink:href=\"#DejaVuSans-70\"/>\r\n      <use x=\"57.410156\" xlink:href=\"#DejaVuSans-114\"/>\r\n      <use x=\"98.492188\" xlink:href=\"#DejaVuSans-101\"/>\r\n      <use x=\"160.015625\" xlink:href=\"#DejaVuSans-113\"/>\r\n      <use x=\"223.492188\" xlink:href=\"#DejaVuSans-117\"/>\r\n      <use x=\"286.871094\" xlink:href=\"#DejaVuSans-101\"/>\r\n      <use x=\"348.394531\" xlink:href=\"#DejaVuSans-110\"/>\r\n      <use x=\"411.773438\" xlink:href=\"#DejaVuSans-99\"/>\r\n      <use x=\"466.753906\" xlink:href=\"#DejaVuSans-121\"/>\r\n     </g>\r\n    </g>\r\n   </g>\r\n   <g id=\"patch_13\">\r\n    <path d=\"M 59.690625 224.64 \r\nL 59.690625 7.2 \r\n\" style=\"fill:none;stroke:#000000;stroke-linecap:square;stroke-linejoin:miter;stroke-width:0.8;\"/>\r\n   </g>\r\n   <g id=\"patch_14\">\r\n    <path d=\"M 394.490625 224.64 \r\nL 394.490625 7.2 \r\n\" style=\"fill:none;stroke:#000000;stroke-linecap:square;stroke-linejoin:miter;stroke-width:0.8;\"/>\r\n   </g>\r\n   <g id=\"patch_15\">\r\n    <path d=\"M 59.690625 224.64 \r\nL 394.490625 224.64 \r\n\" style=\"fill:none;stroke:#000000;stroke-linecap:square;stroke-linejoin:miter;stroke-width:0.8;\"/>\r\n   </g>\r\n   <g id=\"patch_16\">\r\n    <path d=\"M 59.690625 7.2 \r\nL 394.490625 7.2 \r\n\" style=\"fill:none;stroke:#000000;stroke-linecap:square;stroke-linejoin:miter;stroke-width:0.8;\"/>\r\n   </g>\r\n  </g>\r\n </g>\r\n <defs>\r\n  <clipPath id=\"pcd31421880\">\r\n   <rect height=\"217.44\" width=\"334.8\" x=\"59.690625\" y=\"7.2\"/>\r\n  </clipPath>\r\n </defs>\r\n</svg>\r\n",
      "image/png": "[encoded data removed]"
     },
     "metadata": {
      "needs_background": "light"
     }
    }
   ],
   "source": [
    "similar_games['scaled_positives'].plot(kind='hist')"
   ]
  },
  {
   "cell_type": "code",
   "execution_count": 263,
   "metadata": {},
   "outputs": [],
   "source": [
    "from sklearn.preprocessing import MinMaxScaler\n",
    "scaler = MinMaxScaler()"
   ]
  },
  {
   "cell_type": "code",
   "execution_count": 264,
   "metadata": {},
   "outputs": [],
   "source": [
    "similar_games['scaled_positives'] = scaler.fit_transform(similar_games['scaled_positives'].values.reshape(-1,1))"
   ]
  },
  {
   "cell_type": "code",
   "execution_count": 275,
   "metadata": {},
   "outputs": [],
   "source": [
    "similar_games['score'] = similar_games['d2v_similarity']+ 0.28*similar_games['scaled_positives']"
   ]
  },
  {
   "cell_type": "code",
   "execution_count": 276,
   "metadata": {},
   "outputs": [
    {
     "output_type": "execute_result",
     "data": {
      "text/plain": "      appid  d2v_similarity  \\\n0     32440        0.933729   \n1    249130        0.916285   \n23   274190        0.882892   \n22   207140        0.883147   \n12    95400        0.891228   \n105  265930        0.841311   \n282  252950        0.799906   \n339     440        0.789325   \n32   275390        0.877480   \n17   230270        0.887355   \n7    829110        0.899680   \n84   386940        0.848346   \n3     32450        0.915342   \n151  674940        0.824107   \n26   725480        0.880733   \n43   945360        0.868357   \n64   261180        0.855030   \n42   604240        0.868783   \n45   431930        0.866651   \n68   272510        0.853595   \n\n                                                  name  positive  \\\n0                  LEGO® Star Wars™: The Complete Saga      7796   \n1                            LEGO® MARVEL Super Heroes     10361   \n23                                            Broforce     36829   \n22                                        SpeedRunners     24310   \n12                                           ibb & obb      3640   \n105                                     Goat Simulator     48595   \n282                                      Rocket League    378412   \n339                                    Team Fortress 2    624994   \n32        Guacamelee! Super Turbo Championship Edition      4399   \n17                                                 N++      1958   \n7                              LEGO® DC Super-Villains       955   \n84                              Ultimate Chicken Horse     14268   \n3      LEGO® Indiana Jones™ 2: The Adventure Continues       333   \n151                              Stick Fight: The Game     45248   \n26                                           Slap City      2074   \n43                                            Among Us      3322   \n64                                       Lethal League      5485   \n42                                     Shotgun Farmers      2426   \n45                                            Kabounce      2345   \n68   NARUTO SHIPPUDEN: Ultimate Ninja STORM Revolution      4657   \n\n     scaled_positives     score  \n0            0.591494  1.099348  \n1            0.610266  1.087160  \n23           0.693970  1.077204  \n22           0.666553  1.069782  \n12           0.541234  1.042773  \n105          0.712269  1.040746  \n282          0.847738  1.037273  \n339          0.880856  1.035965  \n32           0.553731  1.032525  \n17           0.500323  1.027445  \n7            0.452969  1.026512  \n84           0.631384  1.025133  \n3            0.383559  1.022738  \n151          0.707559  1.022224  \n26           0.504120  1.021887  \n43           0.535202  1.018213  \n64           0.568291  1.014151  \n42           0.514462  1.012832  \n45           0.512222  1.010073  \n68           0.557492  1.009693  ",
      "text/html": "<div>\n<style scoped>\n    .dataframe tbody tr th:only-of-type {\n        vertical-align: middle;\n    }\n\n    .dataframe tbody tr th {\n        vertical-align: top;\n    }\n\n    .dataframe thead th {\n        text-align: right;\n    }\n</style>\n<table border=\"1\" class=\"dataframe\">\n  <thead>\n    <tr style=\"text-align: right;\">\n      <th></th>\n      <th>appid</th>\n      <th>d2v_similarity</th>\n      <th>name</th>\n      <th>positive</th>\n      <th>scaled_positives</th>\n      <th>score</th>\n    </tr>\n  </thead>\n  <tbody>\n    <tr>\n      <th>0</th>\n      <td>32440</td>\n      <td>0.933729</td>\n      <td>LEGO® Star Wars™: The Complete Saga</td>\n      <td>7796</td>\n      <td>0.591494</td>\n      <td>1.099348</td>\n    </tr>\n    <tr>\n      <th>1</th>\n      <td>249130</td>\n      <td>0.916285</td>\n      <td>LEGO® MARVEL Super Heroes</td>\n      <td>10361</td>\n      <td>0.610266</td>\n      <td>1.087160</td>\n    </tr>\n    <tr>\n      <th>23</th>\n      <td>274190</td>\n      <td>0.882892</td>\n      <td>Broforce</td>\n      <td>36829</td>\n      <td>0.693970</td>\n      <td>1.077204</td>\n    </tr>\n    <tr>\n      <th>22</th>\n      <td>207140</td>\n      <td>0.883147</td>\n      <td>SpeedRunners</td>\n      <td>24310</td>\n      <td>0.666553</td>\n      <td>1.069782</td>\n    </tr>\n    <tr>\n      <th>12</th>\n      <td>95400</td>\n      <td>0.891228</td>\n      <td>ibb &amp; obb</td>\n      <td>3640</td>\n      <td>0.541234</td>\n      <td>1.042773</td>\n    </tr>\n    <tr>\n      <th>105</th>\n      <td>265930</td>\n      <td>0.841311</td>\n      <td>Goat Simulator</td>\n      <td>48595</td>\n      <td>0.712269</td>\n      <td>1.040746</td>\n    </tr>\n    <tr>\n      <th>282</th>\n      <td>252950</td>\n      <td>0.799906</td>\n      <td>Rocket League</td>\n      <td>378412</td>\n      <td>0.847738</td>\n      <td>1.037273</td>\n    </tr>\n    <tr>\n      <th>339</th>\n      <td>440</td>\n      <td>0.789325</td>\n      <td>Team Fortress 2</td>\n      <td>624994</td>\n      <td>0.880856</td>\n      <td>1.035965</td>\n    </tr>\n    <tr>\n      <th>32</th>\n      <td>275390</td>\n      <td>0.877480</td>\n      <td>Guacamelee! Super Turbo Championship Edition</td>\n      <td>4399</td>\n      <td>0.553731</td>\n      <td>1.032525</td>\n    </tr>\n    <tr>\n      <th>17</th>\n      <td>230270</td>\n      <td>0.887355</td>\n      <td>N++</td>\n      <td>1958</td>\n      <td>0.500323</td>\n      <td>1.027445</td>\n    </tr>\n    <tr>\n      <th>7</th>\n      <td>829110</td>\n      <td>0.899680</td>\n      <td>LEGO® DC Super-Villains</td>\n      <td>955</td>\n      <td>0.452969</td>\n      <td>1.026512</td>\n    </tr>\n    <tr>\n      <th>84</th>\n      <td>386940</td>\n      <td>0.848346</td>\n      <td>Ultimate Chicken Horse</td>\n      <td>14268</td>\n      <td>0.631384</td>\n      <td>1.025133</td>\n    </tr>\n    <tr>\n      <th>3</th>\n      <td>32450</td>\n      <td>0.915342</td>\n      <td>LEGO® Indiana Jones™ 2: The Adventure Continues</td>\n      <td>333</td>\n      <td>0.383559</td>\n      <td>1.022738</td>\n    </tr>\n    <tr>\n      <th>151</th>\n      <td>674940</td>\n      <td>0.824107</td>\n      <td>Stick Fight: The Game</td>\n      <td>45248</td>\n      <td>0.707559</td>\n      <td>1.022224</td>\n    </tr>\n    <tr>\n      <th>26</th>\n      <td>725480</td>\n      <td>0.880733</td>\n      <td>Slap City</td>\n      <td>2074</td>\n      <td>0.504120</td>\n      <td>1.021887</td>\n    </tr>\n    <tr>\n      <th>43</th>\n      <td>945360</td>\n      <td>0.868357</td>\n      <td>Among Us</td>\n      <td>3322</td>\n      <td>0.535202</td>\n      <td>1.018213</td>\n    </tr>\n    <tr>\n      <th>64</th>\n      <td>261180</td>\n      <td>0.855030</td>\n      <td>Lethal League</td>\n      <td>5485</td>\n      <td>0.568291</td>\n      <td>1.014151</td>\n    </tr>\n    <tr>\n      <th>42</th>\n      <td>604240</td>\n      <td>0.868783</td>\n      <td>Shotgun Farmers</td>\n      <td>2426</td>\n      <td>0.514462</td>\n      <td>1.012832</td>\n    </tr>\n    <tr>\n      <th>45</th>\n      <td>431930</td>\n      <td>0.866651</td>\n      <td>Kabounce</td>\n      <td>2345</td>\n      <td>0.512222</td>\n      <td>1.010073</td>\n    </tr>\n    <tr>\n      <th>68</th>\n      <td>272510</td>\n      <td>0.853595</td>\n      <td>NARUTO SHIPPUDEN: Ultimate Ninja STORM Revolution</td>\n      <td>4657</td>\n      <td>0.557492</td>\n      <td>1.009693</td>\n    </tr>\n  </tbody>\n</table>\n</div>"
     },
     "metadata": {},
     "execution_count": 276
    }
   ],
   "source": [
    "similar_games.sort_values(by='score',ascending=False).head(20)"
   ]
  },
  {
   "cell_type": "code",
   "execution_count": 274,
   "metadata": {},
   "outputs": [],
   "source": [
    "d2v.save('../../models/doc2vec.pickle')"
   ]
  },
  {
   "cell_type": "code",
   "execution_count": 4,
   "metadata": {},
   "outputs": [],
   "source": [
    "app_list = pd.read_csv('../data/processed/app_data.csv')"
   ]
  },
  {
   "cell_type": "code",
   "execution_count": 5,
   "metadata": {},
   "outputs": [],
   "source": [
    "app_list.sort_values(['median_owners','positive'],ascending=(False, False),inplace=True)\n",
    "app_list = app_list.sort_values(['median_owners','positive'],ascending=(False, False))[['name','appid']]"
   ]
  },
  {
   "cell_type": "code",
   "execution_count": 20,
   "metadata": {},
   "outputs": [],
   "source": [
    "model = gensim.models.Doc2Vec.load('../models/doc2vec.pickle')"
   ]
  },
  {
   "cell_type": "code",
   "execution_count": 14,
   "metadata": {},
   "outputs": [],
   "source": [
    "app_list.to_csv('../data/processed/app_list.csv',index=False,header=False)"
   ]
  },
  {
   "cell_type": "code",
   "execution_count": 19,
   "metadata": {},
   "outputs": [],
   "source": [
    "import gensim.models"
   ]
  },
  {
   "cell_type": "code",
   "execution_count": 3,
   "metadata": {},
   "outputs": [],
   "source": [
    "import pandas as pd"
   ]
  },
  {
   "cell_type": "code",
   "execution_count": 7,
   "metadata": {},
   "outputs": [],
   "source": [
    "app_titles = [title for title in app_list]"
   ]
  },
  {
   "cell_type": "code",
   "execution_count": 12,
   "metadata": {},
   "outputs": [],
   "source": [
    "def search_list(term, target_list):\n",
    "    return (term.lower() in target_list)\n",
    "\n",
    "def get_superstrings(term, target_list):\n",
    "    term = term.lower()\n",
    "    superstrings = []\n",
    "    for string in target_list:\n",
    "        if string.lower().startswith(term):\n",
    "            superstrings.append(string)\n",
    "    return superstrings"
   ]
  },
  {
   "cell_type": "code",
   "execution_count": 54,
   "metadata": {},
   "outputs": [
    {
     "output_type": "stream",
     "name": "stdout",
     "text": "CPU times: user 0 ns, sys: 0 ns, total: 0 ns\nWall time: 15.8 ms\n"
    },
    {
     "output_type": "execute_result",
     "data": {
      "text/plain": "['LEGO® MARVEL Super Heroes',\n 'LEGO® Worlds',\n 'LEGO® Star Wars™: The Complete Saga',\n 'LEGO® The Hobbit™',\n 'LEGO® STAR WARS™: The Force Awakens',\n 'LEGO® Batman™ 3: Beyond Gotham',\n 'LEGO® Harry Potter: Years 1-4',\n \"LEGO® MARVEL's Avengers\",\n 'LEGO® Star Wars™ III: The Clone Wars™',\n 'LEGO® Batman™: The Videogame',\n 'LEGO® City Undercover',\n 'LEGO® Batman™ 2: DC Super Heroes',\n 'LEGO® Harry Potter: Years 5-7',\n 'LEGO® MARVEL Super Heroes 2',\n 'LEGO® Pirates of the Caribbean The Video Game',\n 'LEGO® DC Super-Villains',\n 'LEGOⓇ Indiana Jones™: The Original Adventures',\n 'LEGO® Indiana Jones™ 2: The Adventure Continues',\n 'LEGO® The Incredibles']"
     },
     "metadata": {},
     "execution_count": 54
    }
   ],
   "source": [
    "%%time\n",
    "get_superstrings('Lego',app_titles)"
   ]
  },
  {
   "cell_type": "code",
   "execution_count": 17,
   "metadata": {},
   "outputs": [
    {
     "output_type": "execute_result",
     "data": {
      "text/plain": "'374320'"
     },
     "metadata": {},
     "execution_count": 17
    }
   ],
   "source": [
    "get_appid('DARK SOULS™ III')"
   ]
  },
  {
   "cell_type": "code",
   "execution_count": 56,
   "metadata": {},
   "outputs": [],
   "source": [
    "positives = [model['star_wars'],model['lego']]\n",
    "negatives = []\n",
    "\n",
    "similarity = model.docvecs.most_similar(positive=positives, negative=negatives,topn=20)\n",
    "similar_games = pd.DataFrame(similarity,columns=['appid','d2v_similarity'])\n",
    "similar_games['appid'] = similar_games['appid'].astype(int)\n",
    "\n",
    "similar_games = similar_games.merge(app_data[['appid','name','positive']], how='left',on='appid')"
   ]
  },
  {
   "cell_type": "code",
   "execution_count": 57,
   "metadata": {},
   "outputs": [
    {
     "output_type": "execute_result",
     "data": {
      "text/plain": "      appid  d2v_similarity  \\\n0        20        0.945459   \n1       320        0.938034   \n2    879000        0.923910   \n3       730        0.919327   \n4       440        0.917229   \n5    819280        0.915543   \n6    735280        0.914555   \n7    869750        0.911394   \n8     13230        0.911234   \n9    212070        0.909936   \n10   640800        0.909522   \n11  1234620        0.907071   \n12   355400        0.905785   \n13   725640        0.904587   \n14     4920        0.903785   \n15   611020        0.903369   \n16   410320        0.901876   \n17    23530        0.900727   \n18   991280        0.900710   \n19   837500        0.900458   \n\n                                                 name  positive  \n0                               Team Fortress Classic      4160  \n1                             Half-Life 2: Deathmatch      7421  \n2                                            Comanche        92  \n3                    Counter-Strike: Global Offensive   3800328  \n4                                     Team Fortress 2    624994  \n5                         ZAMB! Endless Extermination        18  \n6                                        EMERGENCY 20       430  \n7                              Super Chicken Catchers        17  \n8                              Unreal Tournament 2004      2611  \n9                                       Star Conflict      9612  \n10                                        Skyfront VR        98  \n11                                      Tinker Racers        50  \n12                                        Diesel Guns       183  \n13                                               DUEL        12  \n14                                Natural Selection 2      9528  \n15                         CityBattle | Virtual Earth      1074  \n16  EARTH DEFENSE FORCE 4.1  The Shadow of New Des...      5958  \n17             Earth Defense Force: Insect Armageddon       784  \n18                                      Air Combat XF        10  \n19                                       Leder Panzer         3  ",
      "text/html": "<div>\n<style scoped>\n    .dataframe tbody tr th:only-of-type {\n        vertical-align: middle;\n    }\n\n    .dataframe tbody tr th {\n        vertical-align: top;\n    }\n\n    .dataframe thead th {\n        text-align: right;\n    }\n</style>\n<table border=\"1\" class=\"dataframe\">\n  <thead>\n    <tr style=\"text-align: right;\">\n      <th></th>\n      <th>appid</th>\n      <th>d2v_similarity</th>\n      <th>name</th>\n      <th>positive</th>\n    </tr>\n  </thead>\n  <tbody>\n    <tr>\n      <th>0</th>\n      <td>20</td>\n      <td>0.945459</td>\n      <td>Team Fortress Classic</td>\n      <td>4160</td>\n    </tr>\n    <tr>\n      <th>1</th>\n      <td>320</td>\n      <td>0.938034</td>\n      <td>Half-Life 2: Deathmatch</td>\n      <td>7421</td>\n    </tr>\n    <tr>\n      <th>2</th>\n      <td>879000</td>\n      <td>0.923910</td>\n      <td>Comanche</td>\n      <td>92</td>\n    </tr>\n    <tr>\n      <th>3</th>\n      <td>730</td>\n      <td>0.919327</td>\n      <td>Counter-Strike: Global Offensive</td>\n      <td>3800328</td>\n    </tr>\n    <tr>\n      <th>4</th>\n      <td>440</td>\n      <td>0.917229</td>\n      <td>Team Fortress 2</td>\n      <td>624994</td>\n    </tr>\n    <tr>\n      <th>5</th>\n      <td>819280</td>\n      <td>0.915543</td>\n      <td>ZAMB! Endless Extermination</td>\n      <td>18</td>\n    </tr>\n    <tr>\n      <th>6</th>\n      <td>735280</td>\n      <td>0.914555</td>\n      <td>EMERGENCY 20</td>\n      <td>430</td>\n    </tr>\n    <tr>\n      <th>7</th>\n      <td>869750</td>\n      <td>0.911394</td>\n      <td>Super Chicken Catchers</td>\n      <td>17</td>\n    </tr>\n    <tr>\n      <th>8</th>\n      <td>13230</td>\n      <td>0.911234</td>\n      <td>Unreal Tournament 2004</td>\n      <td>2611</td>\n    </tr>\n    <tr>\n      <th>9</th>\n      <td>212070</td>\n      <td>0.909936</td>\n      <td>Star Conflict</td>\n      <td>9612</td>\n    </tr>\n    <tr>\n      <th>10</th>\n      <td>640800</td>\n      <td>0.909522</td>\n      <td>Skyfront VR</td>\n      <td>98</td>\n    </tr>\n    <tr>\n      <th>11</th>\n      <td>1234620</td>\n      <td>0.907071</td>\n      <td>Tinker Racers</td>\n      <td>50</td>\n    </tr>\n    <tr>\n      <th>12</th>\n      <td>355400</td>\n      <td>0.905785</td>\n      <td>Diesel Guns</td>\n      <td>183</td>\n    </tr>\n    <tr>\n      <th>13</th>\n      <td>725640</td>\n      <td>0.904587</td>\n      <td>DUEL</td>\n      <td>12</td>\n    </tr>\n    <tr>\n      <th>14</th>\n      <td>4920</td>\n      <td>0.903785</td>\n      <td>Natural Selection 2</td>\n      <td>9528</td>\n    </tr>\n    <tr>\n      <th>15</th>\n      <td>611020</td>\n      <td>0.903369</td>\n      <td>CityBattle | Virtual Earth</td>\n      <td>1074</td>\n    </tr>\n    <tr>\n      <th>16</th>\n      <td>410320</td>\n      <td>0.901876</td>\n      <td>EARTH DEFENSE FORCE 4.1  The Shadow of New Des...</td>\n      <td>5958</td>\n    </tr>\n    <tr>\n      <th>17</th>\n      <td>23530</td>\n      <td>0.900727</td>\n      <td>Earth Defense Force: Insect Armageddon</td>\n      <td>784</td>\n    </tr>\n    <tr>\n      <th>18</th>\n      <td>991280</td>\n      <td>0.900710</td>\n      <td>Air Combat XF</td>\n      <td>10</td>\n    </tr>\n    <tr>\n      <th>19</th>\n      <td>837500</td>\n      <td>0.900458</td>\n      <td>Leder Panzer</td>\n      <td>3</td>\n    </tr>\n  </tbody>\n</table>\n</div>"
     },
     "metadata": {},
     "execution_count": 57
    }
   ],
   "source": [
    "similar_games"
   ]
  },
  {
   "cell_type": "code",
   "execution_count": 58,
   "metadata": {},
   "outputs": [
    {
     "output_type": "execute_result",
     "data": {
      "text/plain": "       Unnamed: 0    appid                          name  is_free  \\\n0               0  1257010            Passage to Malkuth    False   \n1               1  1257190             VR Mini Bowling 2    False   \n2               2  1257210              Rabbit Simulator    False   \n3               3  1257270   The Valley of Super Flowers    False   \n4               4  1257280             Monuments Flipper    False   \n...           ...      ...                           ...      ...   \n39748       39921   990720                       Bookend     True   \n39749       39922   990740  The Second Chance Strip Club    False   \n39750       39923   990750  RoboSnakes: Core Wars Legacy    False   \n39751       39924   990840              Running Tadpoles    False   \n39752       39925   990850              Yanpai Simulator    False   \n\n                                 developers  \\\n0                     ['Pixel Purrfection']   \n1      ['Brian Macumber', 'Kevin Macumber']   \n2                            ['Meng Games']   \n3                       ['Anamik Majumdar']   \n4                       ['Games Incubator']   \n...                                     ...   \n39748           ['Paper Crown Interactive']   \n39749                        ['Musclecrab']   \n39750                ['ALIENS Corporation']   \n39751                      ['Mr. Neighbor']   \n39752             ['Caffeine', 'YanpaiDev']   \n\n                                             platforms  \\\n0        {'windows': True, 'mac': True, 'linux': True}   \n1      {'windows': True, 'mac': False, 'linux': False}   \n2      {'windows': True, 'mac': False, 'linux': False}   \n3       {'windows': True, 'mac': False, 'linux': True}   \n4      {'windows': True, 'mac': False, 'linux': False}   \n...                                                ...   \n39748  {'windows': True, 'mac': False, 'linux': False}   \n39749  {'windows': True, 'mac': False, 'linux': False}   \n39750  {'windows': True, 'mac': False, 'linux': False}   \n39751  {'windows': True, 'mac': False, 'linux': False}   \n39752  {'windows': True, 'mac': False, 'linux': False}   \n\n                                              categories  release_date  \\\n0                ['Single-player', 'Steam Achievements']       Q4 2020   \n1      ['Single-player', 'Multi-player', 'Steam Leade...  10 Apr, 2020   \n2      ['Single-player', 'Steam Achievements', 'Steam...  20 Mar, 2020   \n3      ['Single-player', 'Steam Achievements', 'Full ...  27 Mar, 2020   \n4                                      ['Single-player']   Coming soon   \n...                                                  ...           ...   \n39748                                  ['Single-player']   6 Mar, 2019   \n39749  ['Single-player', 'Steam Achievements', 'Full ...   4 Apr, 2019   \n39750                                  ['Single-player']  26 Dec, 2018   \n39751                                  ['Single-player']  21 Dec, 2018   \n39752            ['Single-player', 'Steam Achievements']   4 Jul, 2019   \n\n                           publisher  positive  ...       owners  \\\n0                  Pixel Purrfection         0  ...  0 .. 20,000   \n1                     Brian Macumber         2  ...  0 .. 20,000   \n2                         Meng Games        16  ...  0 .. 20,000   \n3                    Anamik Majumdar         0  ...  0 .. 20,000   \n4      PlayWay S.A., Games Incubator         0  ...  0 .. 20,000   \n...                              ...       ...  ...          ...   \n39748        Paper Crown Interactive        15  ...  0 .. 20,000   \n39749                     Musclecrab         0  ...  0 .. 20,000   \n39750             ALIENS Corporation         6  ...  0 .. 20,000   \n39751                   Mr. Neighbor         0  ...  0 .. 20,000   \n39752                     Cheesecake        11  ...  0 .. 20,000   \n\n      average_forever  average_2weeks  median_forever  median_2weeks  \\\n0                   0               0               0              0   \n1                   0               0               0              0   \n2                   0               0               0              0   \n3                   0               0               0              0   \n4                   0               0               0              0   \n...               ...             ...             ...            ...   \n39748               0               0               0              0   \n39749               0               0               0              0   \n39750               0               0               0              0   \n39751               0               0               0              0   \n39752               0               0               0              0   \n\n                                               languages  \\\n0                                                English   \n1                                                English   \n2      English, French, German, Spanish - Spain, Russ...   \n3                                                English   \n4      English, French, Italian, German, Spanish - Sp...   \n...                                                  ...   \n39748                                            English   \n39749                                            English   \n39750                                            English   \n39751                                            English   \n39752                                            English   \n\n                                                    tags   price  released  \\\n0                                                     []     NaN     False   \n1      {'Indie': 31, 'Casual': 31, 'Sports': 31, 'VR'...  1029.0      True   \n2      {'Casual': 132, 'Simulation': 132, 'Indie': 13...   399.0      True   \n3      {'Action': 57, 'Indie': 56, 'Casual': 56, 'Vio...    79.0      True   \n4                                                     []     NaN     False   \n...                                                  ...     ...       ...   \n39748                                      {'Indie': 22}     0.0      True   \n39749                                                 []   349.0      True   \n39750  {'Strategy': 31, 'Indie': 31, 'Early Access': ...  1549.0      True   \n39751                                                 []    79.0      True   \n39752  {'Simulation': 36, 'Adventure': 32, 'Action': ...   399.0      True   \n\n       median_owners  \n0              10000  \n1              10000  \n2              10000  \n3              10000  \n4              10000  \n...              ...  \n39748          10000  \n39749          10000  \n39750          10000  \n39751          10000  \n39752          10000  \n\n[39753 rows x 21 columns]",
      "text/html": "<div>\n<style scoped>\n    .dataframe tbody tr th:only-of-type {\n        vertical-align: middle;\n    }\n\n    .dataframe tbody tr th {\n        vertical-align: top;\n    }\n\n    .dataframe thead th {\n        text-align: right;\n    }\n</style>\n<table border=\"1\" class=\"dataframe\">\n  <thead>\n    <tr style=\"text-align: right;\">\n      <th></th>\n      <th>Unnamed: 0</th>\n      <th>appid</th>\n      <th>name</th>\n      <th>is_free</th>\n      <th>developers</th>\n      <th>platforms</th>\n      <th>categories</th>\n      <th>release_date</th>\n      <th>publisher</th>\n      <th>positive</th>\n      <th>...</th>\n      <th>owners</th>\n      <th>average_forever</th>\n      <th>average_2weeks</th>\n      <th>median_forever</th>\n      <th>median_2weeks</th>\n      <th>languages</th>\n      <th>tags</th>\n      <th>price</th>\n      <th>released</th>\n      <th>median_owners</th>\n    </tr>\n  </thead>\n  <tbody>\n    <tr>\n      <th>0</th>\n      <td>0</td>\n      <td>1257010</td>\n      <td>Passage to Malkuth</td>\n      <td>False</td>\n      <td>['Pixel Purrfection']</td>\n      <td>{'windows': True, 'mac': True, 'linux': True}</td>\n      <td>['Single-player', 'Steam Achievements']</td>\n      <td>Q4 2020</td>\n      <td>Pixel Purrfection</td>\n      <td>0</td>\n      <td>...</td>\n      <td>0 .. 20,000</td>\n      <td>0</td>\n      <td>0</td>\n      <td>0</td>\n      <td>0</td>\n      <td>English</td>\n      <td>[]</td>\n      <td>NaN</td>\n      <td>False</td>\n      <td>10000</td>\n    </tr>\n    <tr>\n      <th>1</th>\n      <td>1</td>\n      <td>1257190</td>\n      <td>VR Mini Bowling 2</td>\n      <td>False</td>\n      <td>['Brian Macumber', 'Kevin Macumber']</td>\n      <td>{'windows': True, 'mac': False, 'linux': False}</td>\n      <td>['Single-player', 'Multi-player', 'Steam Leade...</td>\n      <td>10 Apr, 2020</td>\n      <td>Brian Macumber</td>\n      <td>2</td>\n      <td>...</td>\n      <td>0 .. 20,000</td>\n      <td>0</td>\n      <td>0</td>\n      <td>0</td>\n      <td>0</td>\n      <td>English</td>\n      <td>{'Indie': 31, 'Casual': 31, 'Sports': 31, 'VR'...</td>\n      <td>1029.0</td>\n      <td>True</td>\n      <td>10000</td>\n    </tr>\n    <tr>\n      <th>2</th>\n      <td>2</td>\n      <td>1257210</td>\n      <td>Rabbit Simulator</td>\n      <td>False</td>\n      <td>['Meng Games']</td>\n      <td>{'windows': True, 'mac': False, 'linux': False}</td>\n      <td>['Single-player', 'Steam Achievements', 'Steam...</td>\n      <td>20 Mar, 2020</td>\n      <td>Meng Games</td>\n      <td>16</td>\n      <td>...</td>\n      <td>0 .. 20,000</td>\n      <td>0</td>\n      <td>0</td>\n      <td>0</td>\n      <td>0</td>\n      <td>English, French, German, Spanish - Spain, Russ...</td>\n      <td>{'Casual': 132, 'Simulation': 132, 'Indie': 13...</td>\n      <td>399.0</td>\n      <td>True</td>\n      <td>10000</td>\n    </tr>\n    <tr>\n      <th>3</th>\n      <td>3</td>\n      <td>1257270</td>\n      <td>The Valley of Super Flowers</td>\n      <td>False</td>\n      <td>['Anamik Majumdar']</td>\n      <td>{'windows': True, 'mac': False, 'linux': True}</td>\n      <td>['Single-player', 'Steam Achievements', 'Full ...</td>\n      <td>27 Mar, 2020</td>\n      <td>Anamik Majumdar</td>\n      <td>0</td>\n      <td>...</td>\n      <td>0 .. 20,000</td>\n      <td>0</td>\n      <td>0</td>\n      <td>0</td>\n      <td>0</td>\n      <td>English</td>\n      <td>{'Action': 57, 'Indie': 56, 'Casual': 56, 'Vio...</td>\n      <td>79.0</td>\n      <td>True</td>\n      <td>10000</td>\n    </tr>\n    <tr>\n      <th>4</th>\n      <td>4</td>\n      <td>1257280</td>\n      <td>Monuments Flipper</td>\n      <td>False</td>\n      <td>['Games Incubator']</td>\n      <td>{'windows': True, 'mac': False, 'linux': False}</td>\n      <td>['Single-player']</td>\n      <td>Coming soon</td>\n      <td>PlayWay S.A., Games Incubator</td>\n      <td>0</td>\n      <td>...</td>\n      <td>0 .. 20,000</td>\n      <td>0</td>\n      <td>0</td>\n      <td>0</td>\n      <td>0</td>\n      <td>English, French, Italian, German, Spanish - Sp...</td>\n      <td>[]</td>\n      <td>NaN</td>\n      <td>False</td>\n      <td>10000</td>\n    </tr>\n    <tr>\n      <th>...</th>\n      <td>...</td>\n      <td>...</td>\n      <td>...</td>\n      <td>...</td>\n      <td>...</td>\n      <td>...</td>\n      <td>...</td>\n      <td>...</td>\n      <td>...</td>\n      <td>...</td>\n      <td>...</td>\n      <td>...</td>\n      <td>...</td>\n      <td>...</td>\n      <td>...</td>\n      <td>...</td>\n      <td>...</td>\n      <td>...</td>\n      <td>...</td>\n      <td>...</td>\n      <td>...</td>\n    </tr>\n    <tr>\n      <th>39748</th>\n      <td>39921</td>\n      <td>990720</td>\n      <td>Bookend</td>\n      <td>True</td>\n      <td>['Paper Crown Interactive']</td>\n      <td>{'windows': True, 'mac': False, 'linux': False}</td>\n      <td>['Single-player']</td>\n      <td>6 Mar, 2019</td>\n      <td>Paper Crown Interactive</td>\n      <td>15</td>\n      <td>...</td>\n      <td>0 .. 20,000</td>\n      <td>0</td>\n      <td>0</td>\n      <td>0</td>\n      <td>0</td>\n      <td>English</td>\n      <td>{'Indie': 22}</td>\n      <td>0.0</td>\n      <td>True</td>\n      <td>10000</td>\n    </tr>\n    <tr>\n      <th>39749</th>\n      <td>39922</td>\n      <td>990740</td>\n      <td>The Second Chance Strip Club</td>\n      <td>False</td>\n      <td>['Musclecrab']</td>\n      <td>{'windows': True, 'mac': False, 'linux': False}</td>\n      <td>['Single-player', 'Steam Achievements', 'Full ...</td>\n      <td>4 Apr, 2019</td>\n      <td>Musclecrab</td>\n      <td>0</td>\n      <td>...</td>\n      <td>0 .. 20,000</td>\n      <td>0</td>\n      <td>0</td>\n      <td>0</td>\n      <td>0</td>\n      <td>English</td>\n      <td>[]</td>\n      <td>349.0</td>\n      <td>True</td>\n      <td>10000</td>\n    </tr>\n    <tr>\n      <th>39750</th>\n      <td>39923</td>\n      <td>990750</td>\n      <td>RoboSnakes: Core Wars Legacy</td>\n      <td>False</td>\n      <td>['ALIENS Corporation']</td>\n      <td>{'windows': True, 'mac': False, 'linux': False}</td>\n      <td>['Single-player']</td>\n      <td>26 Dec, 2018</td>\n      <td>ALIENS Corporation</td>\n      <td>6</td>\n      <td>...</td>\n      <td>0 .. 20,000</td>\n      <td>0</td>\n      <td>0</td>\n      <td>0</td>\n      <td>0</td>\n      <td>English</td>\n      <td>{'Strategy': 31, 'Indie': 31, 'Early Access': ...</td>\n      <td>1549.0</td>\n      <td>True</td>\n      <td>10000</td>\n    </tr>\n    <tr>\n      <th>39751</th>\n      <td>39924</td>\n      <td>990840</td>\n      <td>Running Tadpoles</td>\n      <td>False</td>\n      <td>['Mr. Neighbor']</td>\n      <td>{'windows': True, 'mac': False, 'linux': False}</td>\n      <td>['Single-player']</td>\n      <td>21 Dec, 2018</td>\n      <td>Mr. Neighbor</td>\n      <td>0</td>\n      <td>...</td>\n      <td>0 .. 20,000</td>\n      <td>0</td>\n      <td>0</td>\n      <td>0</td>\n      <td>0</td>\n      <td>English</td>\n      <td>[]</td>\n      <td>79.0</td>\n      <td>True</td>\n      <td>10000</td>\n    </tr>\n    <tr>\n      <th>39752</th>\n      <td>39925</td>\n      <td>990850</td>\n      <td>Yanpai Simulator</td>\n      <td>False</td>\n      <td>['Caffeine', 'YanpaiDev']</td>\n      <td>{'windows': True, 'mac': False, 'linux': False}</td>\n      <td>['Single-player', 'Steam Achievements']</td>\n      <td>4 Jul, 2019</td>\n      <td>Cheesecake</td>\n      <td>11</td>\n      <td>...</td>\n      <td>0 .. 20,000</td>\n      <td>0</td>\n      <td>0</td>\n      <td>0</td>\n      <td>0</td>\n      <td>English</td>\n      <td>{'Simulation': 36, 'Adventure': 32, 'Action': ...</td>\n      <td>399.0</td>\n      <td>True</td>\n      <td>10000</td>\n    </tr>\n  </tbody>\n</table>\n<p>39753 rows × 21 columns</p>\n</div>"
     },
     "metadata": {},
     "execution_count": 58
    }
   ],
   "source": [
    "app_data"
   ]
  },
  {
   "cell_type": "code",
   "execution_count": null,
   "metadata": {},
   "outputs": [],
   "source": []
  }
 ],
 "metadata": {
  "language_info": {
   "name": "python",
   "codemirror_mode": {
    "name": "ipython",
    "version": 3
   },
   "version": "3.6.9-final"
  },
  "orig_nbformat": 2,
  "file_extension": ".py",
  "mimetype": "text/x-python",
  "name": "python",
  "npconvert_exporter": "python",
  "pygments_lexer": "ipython3",
  "version": 3,
  "kernelspec": {
   "name": "python36964bitf11fc2da89fc4ba897e3fcccf5c97bef",
   "display_name": "Python 3.6.9 64-bit"
  }
 },
 "nbformat": 4,
 "nbformat_minor": 2
}